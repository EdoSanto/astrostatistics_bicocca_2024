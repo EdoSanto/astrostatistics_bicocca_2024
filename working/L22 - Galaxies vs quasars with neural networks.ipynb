{
 "cells": [
  {
   "cell_type": "code",
   "execution_count": 1,
   "id": "e4d747aa-ea7d-4ad0-a9bc-e4311ae50456",
   "metadata": {},
   "outputs": [],
   "source": [
    "import numpy as np\n",
    "from matplotlib import pyplot as plt\n",
    "import pandas as pd\n",
    "import seaborn as sns\n",
    "from sklearn.metrics import confusion_matrix\n",
    "from sklearn.preprocessing import LabelEncoder\n",
    "from sklearn.model_selection import train_test_split\n",
    "from sklearn.preprocessing import StandardScaler\n",
    "import tensorflow as tf\n",
    "from tensorflow import keras\n",
    "from sklearn.metrics import roc_curve\n",
    "from sklearn.metrics import RocCurveDisplay\n",
    "from tensorboard.plugins.hparams import api as hp"
   ]
  },
  {
   "cell_type": "code",
   "execution_count": 2,
   "id": "540d096f-d383-4ab7-9bdf-a5091a3d0545",
   "metadata": {},
   "outputs": [
    {
     "data": {
      "text/html": [
       "<div>\n",
       "<style scoped>\n",
       "    .dataframe tbody tr th:only-of-type {\n",
       "        vertical-align: middle;\n",
       "    }\n",
       "\n",
       "    .dataframe tbody tr th {\n",
       "        vertical-align: top;\n",
       "    }\n",
       "\n",
       "    .dataframe thead th {\n",
       "        text-align: right;\n",
       "    }\n",
       "</style>\n",
       "<table border=\"1\" class=\"dataframe\">\n",
       "  <thead>\n",
       "    <tr style=\"text-align: right;\">\n",
       "      <th></th>\n",
       "      <th>u</th>\n",
       "      <th>g</th>\n",
       "      <th>r</th>\n",
       "      <th>i</th>\n",
       "      <th>z</th>\n",
       "      <th>class</th>\n",
       "      <th>z1</th>\n",
       "      <th>zerr</th>\n",
       "    </tr>\n",
       "  </thead>\n",
       "  <tbody>\n",
       "    <tr>\n",
       "      <th>0</th>\n",
       "      <td>18.97213</td>\n",
       "      <td>18.53676</td>\n",
       "      <td>18.58280</td>\n",
       "      <td>18.34936</td>\n",
       "      <td>18.29215</td>\n",
       "      <td>QSO</td>\n",
       "      <td>0.522819</td>\n",
       "      <td>0.000155</td>\n",
       "    </tr>\n",
       "    <tr>\n",
       "      <th>1</th>\n",
       "      <td>19.24592</td>\n",
       "      <td>17.47646</td>\n",
       "      <td>16.47817</td>\n",
       "      <td>16.04472</td>\n",
       "      <td>15.68851</td>\n",
       "      <td>GALAXY</td>\n",
       "      <td>0.122846</td>\n",
       "      <td>0.000028</td>\n",
       "    </tr>\n",
       "    <tr>\n",
       "      <th>2</th>\n",
       "      <td>19.43536</td>\n",
       "      <td>17.70268</td>\n",
       "      <td>16.91565</td>\n",
       "      <td>16.58327</td>\n",
       "      <td>16.39128</td>\n",
       "      <td>GALAXY</td>\n",
       "      <td>0.000000</td>\n",
       "      <td>0.000000</td>\n",
       "    </tr>\n",
       "    <tr>\n",
       "      <th>3</th>\n",
       "      <td>19.31626</td>\n",
       "      <td>18.18312</td>\n",
       "      <td>17.39591</td>\n",
       "      <td>16.94549</td>\n",
       "      <td>16.65395</td>\n",
       "      <td>GALAXY</td>\n",
       "      <td>0.147435</td>\n",
       "      <td>0.000009</td>\n",
       "    </tr>\n",
       "    <tr>\n",
       "      <th>4</th>\n",
       "      <td>19.28828</td>\n",
       "      <td>19.11188</td>\n",
       "      <td>18.88937</td>\n",
       "      <td>18.80013</td>\n",
       "      <td>18.49183</td>\n",
       "      <td>QSO</td>\n",
       "      <td>2.011455</td>\n",
       "      <td>0.000631</td>\n",
       "    </tr>\n",
       "    <tr>\n",
       "      <th>...</th>\n",
       "      <td>...</td>\n",
       "      <td>...</td>\n",
       "      <td>...</td>\n",
       "      <td>...</td>\n",
       "      <td>...</td>\n",
       "      <td>...</td>\n",
       "      <td>...</td>\n",
       "      <td>...</td>\n",
       "    </tr>\n",
       "    <tr>\n",
       "      <th>49995</th>\n",
       "      <td>19.37295</td>\n",
       "      <td>18.12382</td>\n",
       "      <td>17.39886</td>\n",
       "      <td>16.98503</td>\n",
       "      <td>16.70585</td>\n",
       "      <td>GALAXY</td>\n",
       "      <td>0.113016</td>\n",
       "      <td>0.000011</td>\n",
       "    </tr>\n",
       "    <tr>\n",
       "      <th>49996</th>\n",
       "      <td>18.52021</td>\n",
       "      <td>16.88262</td>\n",
       "      <td>16.03280</td>\n",
       "      <td>15.56884</td>\n",
       "      <td>15.22454</td>\n",
       "      <td>GALAXY</td>\n",
       "      <td>0.085063</td>\n",
       "      <td>0.000014</td>\n",
       "    </tr>\n",
       "    <tr>\n",
       "      <th>49997</th>\n",
       "      <td>18.62718</td>\n",
       "      <td>17.30876</td>\n",
       "      <td>16.87371</td>\n",
       "      <td>16.62399</td>\n",
       "      <td>16.42296</td>\n",
       "      <td>GALAXY</td>\n",
       "      <td>0.054429</td>\n",
       "      <td>0.000008</td>\n",
       "    </tr>\n",
       "    <tr>\n",
       "      <th>49998</th>\n",
       "      <td>19.55140</td>\n",
       "      <td>18.27711</td>\n",
       "      <td>17.62101</td>\n",
       "      <td>17.21947</td>\n",
       "      <td>17.03347</td>\n",
       "      <td>GALAXY</td>\n",
       "      <td>0.112571</td>\n",
       "      <td>0.000009</td>\n",
       "    </tr>\n",
       "    <tr>\n",
       "      <th>49999</th>\n",
       "      <td>18.80772</td>\n",
       "      <td>17.75751</td>\n",
       "      <td>17.40500</td>\n",
       "      <td>17.21650</td>\n",
       "      <td>17.12295</td>\n",
       "      <td>GALAXY</td>\n",
       "      <td>0.043652</td>\n",
       "      <td>0.000007</td>\n",
       "    </tr>\n",
       "  </tbody>\n",
       "</table>\n",
       "<p>50000 rows × 8 columns</p>\n",
       "</div>"
      ],
      "text/plain": [
       "              u         g         r         i         z   class        z1  \\\n",
       "0      18.97213  18.53676  18.58280  18.34936  18.29215     QSO  0.522819   \n",
       "1      19.24592  17.47646  16.47817  16.04472  15.68851  GALAXY  0.122846   \n",
       "2      19.43536  17.70268  16.91565  16.58327  16.39128  GALAXY  0.000000   \n",
       "3      19.31626  18.18312  17.39591  16.94549  16.65395  GALAXY  0.147435   \n",
       "4      19.28828  19.11188  18.88937  18.80013  18.49183     QSO  2.011455   \n",
       "...         ...       ...       ...       ...       ...     ...       ...   \n",
       "49995  19.37295  18.12382  17.39886  16.98503  16.70585  GALAXY  0.113016   \n",
       "49996  18.52021  16.88262  16.03280  15.56884  15.22454  GALAXY  0.085063   \n",
       "49997  18.62718  17.30876  16.87371  16.62399  16.42296  GALAXY  0.054429   \n",
       "49998  19.55140  18.27711  17.62101  17.21947  17.03347  GALAXY  0.112571   \n",
       "49999  18.80772  17.75751  17.40500  17.21650  17.12295  GALAXY  0.043652   \n",
       "\n",
       "           zerr  \n",
       "0      0.000155  \n",
       "1      0.000028  \n",
       "2      0.000000  \n",
       "3      0.000009  \n",
       "4      0.000631  \n",
       "...         ...  \n",
       "49995  0.000011  \n",
       "49996  0.000014  \n",
       "49997  0.000008  \n",
       "49998  0.000009  \n",
       "49999  0.000007  \n",
       "\n",
       "[50000 rows x 8 columns]"
      ]
     },
     "execution_count": 2,
     "metadata": {},
     "output_type": "execute_result"
    }
   ],
   "source": [
    "data = pd.read_csv(\"../solutions/galaxyquasar.csv\")\n",
    "data"
   ]
  },
  {
   "cell_type": "code",
   "execution_count": 3,
   "id": "48163977-be75-4c2a-ba7c-532c57a61fd1",
   "metadata": {},
   "outputs": [],
   "source": [
    "u_g = np.array(data['u'] - data['g'])\n",
    "g_r = np.array(data['g'] - data['r'])\n",
    "r_i = np.array(data['r'] - data['i'])\n",
    "i_z = np.array(data['i'] - data['z'])"
   ]
  },
  {
   "cell_type": "code",
   "execution_count": 4,
   "id": "af243d18-0206-4517-9dcf-e90e07b798bc",
   "metadata": {},
   "outputs": [
    {
     "name": "stdout",
     "output_type": "stream",
     "text": [
      "Class names:  ['GALAXY' 'QSO']\n",
      "Labels:  ['QSO' 'GALAXY' 'GALAXY' ... 'GALAXY' 'GALAXY' 'GALAXY']\n"
     ]
    }
   ],
   "source": [
    "le = LabelEncoder()\n",
    "\n",
    "#Assign unique integers: 1 QSO, 0 galaxy\n",
    "data['class'] = le.fit_transform(data['class']) \n",
    "label_class = le.inverse_transform(data['class'])\n",
    "class_name = le.classes_\n",
    "print('Class names: ', class_name)\n",
    "print('Labels: ', label_class)"
   ]
  },
  {
   "cell_type": "code",
   "execution_count": 5,
   "id": "04008e9b-5cf8-4963-90f2-e52f009ce87a",
   "metadata": {},
   "outputs": [],
   "source": [
    "scaler = StandardScaler().set_output(transform=\"pandas\")\n",
    "\n",
    "X = np.array([u_g, g_r, r_i, i_z]).T\n",
    "X_scaled = scaler.fit_transform(X)\n",
    "\n",
    "X_train, X_val, y_train, y_val = train_test_split(X_scaled, data['class'], test_size=0.2, random_state=42)\n",
    "X_train, X_test, y_train, y_test = train_test_split(X_train, y_train, test_size=0.16, random_state=42)"
   ]
  },
  {
   "cell_type": "markdown",
   "id": "4227fd0d-fd15-4101-a4e8-9d3a10bc2ba4",
   "metadata": {},
   "source": [
    "# Initializing a neural network by Tensorflow"
   ]
  },
  {
   "cell_type": "code",
   "execution_count": 6,
   "id": "bf434216-b1f1-4fe6-b6af-9f0c6b029837",
   "metadata": {},
   "outputs": [],
   "source": [
    "init_num_units = 5\n",
    "init_dropout = 0.1\n",
    "init_optimizer = tf.keras.optimizers.Adam(learning_rate=0.001)\n",
    "init_activation = 'relu'"
   ]
  },
  {
   "cell_type": "code",
   "execution_count": 7,
   "id": "ef5e3c79-aff9-4461-8382-5e55e31808d3",
   "metadata": {},
   "outputs": [],
   "source": [
    "METRICS = [\n",
    "      keras.metrics.BinaryCrossentropy(name='cross entropy'),  # same as model's loss\n",
    "      keras.metrics.BinaryAccuracy(name='accuracy'),\n",
    "      keras.metrics.Precision(name='precision'),\n",
    "      keras.metrics.Recall(name = 'recall'),\n",
    "]\n",
    "\n",
    "def make_model(metrics=METRICS):\n",
    "  model = keras.Sequential([\n",
    "      keras.layers.InputLayer(shape = (X_train.shape[-1],)),\n",
    "      keras.layers.Dense(\n",
    "          init_num_units, activation=init_activation),\n",
    "      keras.layers.Dropout(init_dropout),\n",
    "      keras.layers.Dense(1, activation='sigmoid'),\n",
    "  ])\n",
    "\n",
    "  model.compile(\n",
    "      optimizer=init_optimizer,\n",
    "      loss=keras.losses.BinaryCrossentropy(),\n",
    "      metrics=metrics)\n",
    "  print(metrics)\n",
    "  return model"
   ]
  },
  {
   "cell_type": "code",
   "execution_count": 8,
   "id": "f136252e-7f65-4318-9668-adec03c186f9",
   "metadata": {},
   "outputs": [
    {
     "name": "stdout",
     "output_type": "stream",
     "text": [
      "[<BinaryCrossentropy name=cross entropy>, <BinaryAccuracy name=accuracy>, <Precision name=precision>, <Recall name=recall>]\n"
     ]
    },
    {
     "data": {
      "text/html": [
       "<pre style=\"white-space:pre;overflow-x:auto;line-height:normal;font-family:Menlo,'DejaVu Sans Mono',consolas,'Courier New',monospace\"><span style=\"font-weight: bold\">Model: \"sequential\"</span>\n",
       "</pre>\n"
      ],
      "text/plain": [
       "\u001b[1mModel: \"sequential\"\u001b[0m\n"
      ]
     },
     "metadata": {},
     "output_type": "display_data"
    },
    {
     "data": {
      "text/html": [
       "<pre style=\"white-space:pre;overflow-x:auto;line-height:normal;font-family:Menlo,'DejaVu Sans Mono',consolas,'Courier New',monospace\">┏━━━━━━━━━━━━━━━━━━━━━━━━━━━━━━━━━┳━━━━━━━━━━━━━━━━━━━━━━━━┳━━━━━━━━━━━━━━━┓\n",
       "┃<span style=\"font-weight: bold\"> Layer (type)                    </span>┃<span style=\"font-weight: bold\"> Output Shape           </span>┃<span style=\"font-weight: bold\">       Param # </span>┃\n",
       "┡━━━━━━━━━━━━━━━━━━━━━━━━━━━━━━━━━╇━━━━━━━━━━━━━━━━━━━━━━━━╇━━━━━━━━━━━━━━━┩\n",
       "│ dense (<span style=\"color: #0087ff; text-decoration-color: #0087ff\">Dense</span>)                   │ (<span style=\"color: #00d7ff; text-decoration-color: #00d7ff\">None</span>, <span style=\"color: #00af00; text-decoration-color: #00af00\">5</span>)              │            <span style=\"color: #00af00; text-decoration-color: #00af00\">25</span> │\n",
       "├─────────────────────────────────┼────────────────────────┼───────────────┤\n",
       "│ dropout (<span style=\"color: #0087ff; text-decoration-color: #0087ff\">Dropout</span>)               │ (<span style=\"color: #00d7ff; text-decoration-color: #00d7ff\">None</span>, <span style=\"color: #00af00; text-decoration-color: #00af00\">5</span>)              │             <span style=\"color: #00af00; text-decoration-color: #00af00\">0</span> │\n",
       "├─────────────────────────────────┼────────────────────────┼───────────────┤\n",
       "│ dense_1 (<span style=\"color: #0087ff; text-decoration-color: #0087ff\">Dense</span>)                 │ (<span style=\"color: #00d7ff; text-decoration-color: #00d7ff\">None</span>, <span style=\"color: #00af00; text-decoration-color: #00af00\">1</span>)              │             <span style=\"color: #00af00; text-decoration-color: #00af00\">6</span> │\n",
       "└─────────────────────────────────┴────────────────────────┴───────────────┘\n",
       "</pre>\n"
      ],
      "text/plain": [
       "┏━━━━━━━━━━━━━━━━━━━━━━━━━━━━━━━━━┳━━━━━━━━━━━━━━━━━━━━━━━━┳━━━━━━━━━━━━━━━┓\n",
       "┃\u001b[1m \u001b[0m\u001b[1mLayer (type)                   \u001b[0m\u001b[1m \u001b[0m┃\u001b[1m \u001b[0m\u001b[1mOutput Shape          \u001b[0m\u001b[1m \u001b[0m┃\u001b[1m \u001b[0m\u001b[1m      Param #\u001b[0m\u001b[1m \u001b[0m┃\n",
       "┡━━━━━━━━━━━━━━━━━━━━━━━━━━━━━━━━━╇━━━━━━━━━━━━━━━━━━━━━━━━╇━━━━━━━━━━━━━━━┩\n",
       "│ dense (\u001b[38;5;33mDense\u001b[0m)                   │ (\u001b[38;5;45mNone\u001b[0m, \u001b[38;5;34m5\u001b[0m)              │            \u001b[38;5;34m25\u001b[0m │\n",
       "├─────────────────────────────────┼────────────────────────┼───────────────┤\n",
       "│ dropout (\u001b[38;5;33mDropout\u001b[0m)               │ (\u001b[38;5;45mNone\u001b[0m, \u001b[38;5;34m5\u001b[0m)              │             \u001b[38;5;34m0\u001b[0m │\n",
       "├─────────────────────────────────┼────────────────────────┼───────────────┤\n",
       "│ dense_1 (\u001b[38;5;33mDense\u001b[0m)                 │ (\u001b[38;5;45mNone\u001b[0m, \u001b[38;5;34m1\u001b[0m)              │             \u001b[38;5;34m6\u001b[0m │\n",
       "└─────────────────────────────────┴────────────────────────┴───────────────┘\n"
      ]
     },
     "metadata": {},
     "output_type": "display_data"
    },
    {
     "data": {
      "text/html": [
       "<pre style=\"white-space:pre;overflow-x:auto;line-height:normal;font-family:Menlo,'DejaVu Sans Mono',consolas,'Courier New',monospace\"><span style=\"font-weight: bold\"> Total params: </span><span style=\"color: #00af00; text-decoration-color: #00af00\">31</span> (124.00 B)\n",
       "</pre>\n"
      ],
      "text/plain": [
       "\u001b[1m Total params: \u001b[0m\u001b[38;5;34m31\u001b[0m (124.00 B)\n"
      ]
     },
     "metadata": {},
     "output_type": "display_data"
    },
    {
     "data": {
      "text/html": [
       "<pre style=\"white-space:pre;overflow-x:auto;line-height:normal;font-family:Menlo,'DejaVu Sans Mono',consolas,'Courier New',monospace\"><span style=\"font-weight: bold\"> Trainable params: </span><span style=\"color: #00af00; text-decoration-color: #00af00\">31</span> (124.00 B)\n",
       "</pre>\n"
      ],
      "text/plain": [
       "\u001b[1m Trainable params: \u001b[0m\u001b[38;5;34m31\u001b[0m (124.00 B)\n"
      ]
     },
     "metadata": {},
     "output_type": "display_data"
    },
    {
     "data": {
      "text/html": [
       "<pre style=\"white-space:pre;overflow-x:auto;line-height:normal;font-family:Menlo,'DejaVu Sans Mono',consolas,'Courier New',monospace\"><span style=\"font-weight: bold\"> Non-trainable params: </span><span style=\"color: #00af00; text-decoration-color: #00af00\">0</span> (0.00 B)\n",
       "</pre>\n"
      ],
      "text/plain": [
       "\u001b[1m Non-trainable params: \u001b[0m\u001b[38;5;34m0\u001b[0m (0.00 B)\n"
      ]
     },
     "metadata": {},
     "output_type": "display_data"
    }
   ],
   "source": [
    "model = make_model()\n",
    "model.summary()"
   ]
  },
  {
   "cell_type": "code",
   "execution_count": 9,
   "id": "5100bb1f-1015-44b0-aeef-e214b1a4db0d",
   "metadata": {},
   "outputs": [
    {
     "name": "stdout",
     "output_type": "stream",
     "text": [
      "Epoch 1/20\n",
      "\u001b[1m1050/1050\u001b[0m \u001b[32m━━━━━━━━━━━━━━━━━━━━\u001b[0m\u001b[37m\u001b[0m \u001b[1m8s\u001b[0m 5ms/step - accuracy: 0.7769 - cross entropy: 0.5028 - loss: 0.5028 - precision: 0.4450 - recall: 0.8667 - val_accuracy: 0.9807 - val_cross entropy: 0.1310 - val_loss: 0.1310 - val_precision: 0.9408 - val_recall: 0.9230\n",
      "Epoch 2/20\n",
      "\u001b[1m1050/1050\u001b[0m \u001b[32m━━━━━━━━━━━━━━━━━━━━\u001b[0m\u001b[37m\u001b[0m \u001b[1m4s\u001b[0m 3ms/step - accuracy: 0.9686 - cross entropy: 0.1263 - loss: 0.1263 - precision: 0.9182 - recall: 0.8515 - val_accuracy: 0.9801 - val_cross entropy: 0.0819 - val_loss: 0.0819 - val_precision: 0.9469 - val_recall: 0.9118\n",
      "Epoch 3/20\n",
      "\u001b[1m1050/1050\u001b[0m \u001b[32m━━━━━━━━━━━━━━━━━━━━\u001b[0m\u001b[37m\u001b[0m \u001b[1m4s\u001b[0m 4ms/step - accuracy: 0.9778 - cross entropy: 0.0915 - loss: 0.0915 - precision: 0.9424 - recall: 0.9004 - val_accuracy: 0.9807 - val_cross entropy: 0.0768 - val_loss: 0.0768 - val_precision: 0.9478 - val_recall: 0.9153\n",
      "Epoch 4/20\n",
      "\u001b[1m1050/1050\u001b[0m \u001b[32m━━━━━━━━━━━━━━━━━━━━\u001b[0m\u001b[37m\u001b[0m \u001b[1m4s\u001b[0m 4ms/step - accuracy: 0.9794 - cross entropy: 0.0856 - loss: 0.0856 - precision: 0.9409 - recall: 0.9113 - val_accuracy: 0.9812 - val_cross entropy: 0.0760 - val_loss: 0.0760 - val_precision: 0.9435 - val_recall: 0.9237\n",
      "Epoch 5/20\n",
      "\u001b[1m1050/1050\u001b[0m \u001b[32m━━━━━━━━━━━━━━━━━━━━\u001b[0m\u001b[37m\u001b[0m \u001b[1m4s\u001b[0m 4ms/step - accuracy: 0.9811 - cross entropy: 0.0859 - loss: 0.0859 - precision: 0.9442 - recall: 0.9183 - val_accuracy: 0.9813 - val_cross entropy: 0.0758 - val_loss: 0.0758 - val_precision: 0.9461 - val_recall: 0.9216\n",
      "Epoch 6/20\n",
      "\u001b[1m1050/1050\u001b[0m \u001b[32m━━━━━━━━━━━━━━━━━━━━\u001b[0m\u001b[37m\u001b[0m \u001b[1m4s\u001b[0m 4ms/step - accuracy: 0.9803 - cross entropy: 0.0838 - loss: 0.0838 - precision: 0.9485 - recall: 0.9105 - val_accuracy: 0.9812 - val_cross entropy: 0.0752 - val_loss: 0.0752 - val_precision: 0.9493 - val_recall: 0.9174\n",
      "Epoch 7/20\n",
      "\u001b[1m1050/1050\u001b[0m \u001b[32m━━━━━━━━━━━━━━━━━━━━\u001b[0m\u001b[37m\u001b[0m \u001b[1m4s\u001b[0m 4ms/step - accuracy: 0.9804 - cross entropy: 0.0847 - loss: 0.0847 - precision: 0.9497 - recall: 0.9095 - val_accuracy: 0.9811 - val_cross entropy: 0.0750 - val_loss: 0.0750 - val_precision: 0.9473 - val_recall: 0.9188\n",
      "Epoch 8/20\n",
      "\u001b[1m1050/1050\u001b[0m \u001b[32m━━━━━━━━━━━━━━━━━━━━\u001b[0m\u001b[37m\u001b[0m \u001b[1m4s\u001b[0m 4ms/step - accuracy: 0.9815 - cross entropy: 0.0784 - loss: 0.0784 - precision: 0.9487 - recall: 0.9178 - val_accuracy: 0.9809 - val_cross entropy: 0.0752 - val_loss: 0.0752 - val_precision: 0.9459 - val_recall: 0.9188\n",
      "Epoch 9/20\n",
      "\u001b[1m1050/1050\u001b[0m \u001b[32m━━━━━━━━━━━━━━━━━━━━\u001b[0m\u001b[37m\u001b[0m \u001b[1m4s\u001b[0m 4ms/step - accuracy: 0.9779 - cross entropy: 0.0907 - loss: 0.0907 - precision: 0.9349 - recall: 0.9084 - val_accuracy: 0.9811 - val_cross entropy: 0.0749 - val_loss: 0.0749 - val_precision: 0.9466 - val_recall: 0.9195\n",
      "Epoch 10/20\n",
      "\u001b[1m1050/1050\u001b[0m \u001b[32m━━━━━━━━━━━━━━━━━━━━\u001b[0m\u001b[37m\u001b[0m \u001b[1m4s\u001b[0m 4ms/step - accuracy: 0.9807 - cross entropy: 0.0828 - loss: 0.0828 - precision: 0.9493 - recall: 0.9113 - val_accuracy: 0.9812 - val_cross entropy: 0.0745 - val_loss: 0.0745 - val_precision: 0.9448 - val_recall: 0.9223\n",
      "Epoch 11/20\n",
      "\u001b[1m1050/1050\u001b[0m \u001b[32m━━━━━━━━━━━━━━━━━━━━\u001b[0m\u001b[37m\u001b[0m \u001b[1m4s\u001b[0m 4ms/step - accuracy: 0.9807 - cross entropy: 0.0849 - loss: 0.0849 - precision: 0.9506 - recall: 0.9105 - val_accuracy: 0.9813 - val_cross entropy: 0.0745 - val_loss: 0.0745 - val_precision: 0.9461 - val_recall: 0.9216\n",
      "Epoch 12/20\n",
      "\u001b[1m1050/1050\u001b[0m \u001b[32m━━━━━━━━━━━━━━━━━━━━\u001b[0m\u001b[37m\u001b[0m \u001b[1m4s\u001b[0m 4ms/step - accuracy: 0.9814 - cross entropy: 0.0781 - loss: 0.0781 - precision: 0.9489 - recall: 0.9169 - val_accuracy: 0.9809 - val_cross entropy: 0.0745 - val_loss: 0.0745 - val_precision: 0.9453 - val_recall: 0.9195\n",
      "Epoch 13/20\n",
      "\u001b[1m1050/1050\u001b[0m \u001b[32m━━━━━━━━━━━━━━━━━━━━\u001b[0m\u001b[37m\u001b[0m \u001b[1m4s\u001b[0m 4ms/step - accuracy: 0.9803 - cross entropy: 0.0876 - loss: 0.0876 - precision: 0.9468 - recall: 0.9128 - val_accuracy: 0.9804 - val_cross entropy: 0.0745 - val_loss: 0.0745 - val_precision: 0.9457 - val_recall: 0.9153\n",
      "Epoch 14/20\n",
      "\u001b[1m1050/1050\u001b[0m \u001b[32m━━━━━━━━━━━━━━━━━━━━\u001b[0m\u001b[37m\u001b[0m \u001b[1m4s\u001b[0m 4ms/step - accuracy: 0.9805 - cross entropy: 0.0779 - loss: 0.0779 - precision: 0.9475 - recall: 0.9117 - val_accuracy: 0.9807 - val_cross entropy: 0.0747 - val_loss: 0.0747 - val_precision: 0.9458 - val_recall: 0.9174\n",
      "Epoch 15/20\n",
      "\u001b[1m1050/1050\u001b[0m \u001b[32m━━━━━━━━━━━━━━━━━━━━\u001b[0m\u001b[37m\u001b[0m \u001b[1m4s\u001b[0m 4ms/step - accuracy: 0.9805 - cross entropy: 0.0842 - loss: 0.0842 - precision: 0.9508 - recall: 0.9120 - val_accuracy: 0.9809 - val_cross entropy: 0.0744 - val_loss: 0.0744 - val_precision: 0.9453 - val_recall: 0.9195\n",
      "Epoch 16/20\n",
      "\u001b[1m1050/1050\u001b[0m \u001b[32m━━━━━━━━━━━━━━━━━━━━\u001b[0m\u001b[37m\u001b[0m \u001b[1m4s\u001b[0m 4ms/step - accuracy: 0.9809 - cross entropy: 0.0822 - loss: 0.0822 - precision: 0.9454 - recall: 0.9145 - val_accuracy: 0.9806 - val_cross entropy: 0.0747 - val_loss: 0.0747 - val_precision: 0.9478 - val_recall: 0.9146\n",
      "Epoch 17/20\n",
      "\u001b[1m1050/1050\u001b[0m \u001b[32m━━━━━━━━━━━━━━━━━━━━\u001b[0m\u001b[37m\u001b[0m \u001b[1m4s\u001b[0m 4ms/step - accuracy: 0.9803 - cross entropy: 0.0775 - loss: 0.0775 - precision: 0.9451 - recall: 0.9103 - val_accuracy: 0.9809 - val_cross entropy: 0.0746 - val_loss: 0.0746 - val_precision: 0.9459 - val_recall: 0.9188\n",
      "Epoch 18/20\n",
      "\u001b[1m1050/1050\u001b[0m \u001b[32m━━━━━━━━━━━━━━━━━━━━\u001b[0m\u001b[37m\u001b[0m \u001b[1m4s\u001b[0m 4ms/step - accuracy: 0.9804 - cross entropy: 0.0783 - loss: 0.0783 - precision: 0.9469 - recall: 0.9109 - val_accuracy: 0.9811 - val_cross entropy: 0.0747 - val_loss: 0.0747 - val_precision: 0.9454 - val_recall: 0.9209\n",
      "Epoch 19/20\n",
      "\u001b[1m1050/1050\u001b[0m \u001b[32m━━━━━━━━━━━━━━━━━━━━\u001b[0m\u001b[37m\u001b[0m \u001b[1m4s\u001b[0m 4ms/step - accuracy: 0.9804 - cross entropy: 0.0807 - loss: 0.0807 - precision: 0.9476 - recall: 0.9113 - val_accuracy: 0.9809 - val_cross entropy: 0.0745 - val_loss: 0.0745 - val_precision: 0.9511 - val_recall: 0.9132\n",
      "Epoch 20/20\n",
      "\u001b[1m1050/1050\u001b[0m \u001b[32m━━━━━━━━━━━━━━━━━━━━\u001b[0m\u001b[37m\u001b[0m \u001b[1m4s\u001b[0m 4ms/step - accuracy: 0.9794 - cross entropy: 0.0818 - loss: 0.0818 - precision: 0.9475 - recall: 0.9038 - val_accuracy: 0.9807 - val_cross entropy: 0.0743 - val_loss: 0.0743 - val_precision: 0.9465 - val_recall: 0.9167\n"
     ]
    }
   ],
   "source": [
    "history = model.fit(X_train, y_train, epochs=20, validation_data=(X_val, y_val))"
   ]
  },
  {
   "cell_type": "code",
   "execution_count": 10,
   "id": "865fda71-e055-47c4-ab13-423fbbfbad0e",
   "metadata": {},
   "outputs": [
    {
     "name": "stdout",
     "output_type": "stream",
     "text": [
      "\u001b[1m1050/1050\u001b[0m \u001b[32m━━━━━━━━━━━━━━━━━━━━\u001b[0m\u001b[37m\u001b[0m \u001b[1m3s\u001b[0m 3ms/step\n",
      "\u001b[1m313/313\u001b[0m \u001b[32m━━━━━━━━━━━━━━━━━━━━\u001b[0m\u001b[37m\u001b[0m \u001b[1m1s\u001b[0m 2ms/step\n",
      "\u001b[1m200/200\u001b[0m \u001b[32m━━━━━━━━━━━━━━━━━━━━\u001b[0m\u001b[37m\u001b[0m \u001b[1m0s\u001b[0m 2ms/step\n"
     ]
    }
   ],
   "source": [
    "train_pred = model.predict(X_train)\n",
    "val_pred = model.predict(X_val)\n",
    "test_pred = model.predict(X_test)"
   ]
  },
  {
   "cell_type": "code",
   "execution_count": 12,
   "id": "30d3e90f-d260-481c-8364-841627c14ca7",
   "metadata": {},
   "outputs": [
    {
     "name": "stdout",
     "output_type": "stream",
     "text": [
      "Loss : 0.07491294294595718\n",
      "Accuracy : 0.981249988079071\n",
      "Precision : 0.9471412897109985\n",
      "Recall : 0.925184428691864\n"
     ]
    },
    {
     "data": {
      "text/plain": [
       "array([[5402,   49],\n",
       "       [  71,  878]], dtype=int64)"
      ]
     },
     "execution_count": 12,
     "metadata": {},
     "output_type": "execute_result"
    }
   ],
   "source": [
    "cm = confusion_matrix(y_test, test_pred > 0.5)\n",
    "test_results = model.evaluate(X_test, y_test, verbose=0)\n",
    "print('Loss : ' + str(test_results[0]))\n",
    "print('Accuracy : ' + str(test_results[2]))\n",
    "print('Precision : ' + str(test_results[3]))\n",
    "print('Recall : ' + str(test_results[4]))\n",
    "cm"
   ]
  },
  {
   "cell_type": "code",
   "execution_count": 13,
   "id": "a47732b7-efac-40f2-a4e5-d43b5c252bfc",
   "metadata": {},
   "outputs": [
    {
     "name": "stdout",
     "output_type": "stream",
     "text": [
      "\u001b[1m200/200\u001b[0m \u001b[32m━━━━━━━━━━━━━━━━━━━━\u001b[0m\u001b[37m\u001b[0m \u001b[1m0s\u001b[0m 2ms/step\n"
     ]
    },
    {
     "data": {
      "image/png": "[encoded data removed]",
      "text/plain": [
       "<Figure size 640x480 with 1 Axes>"
      ]
     },
     "metadata": {},
     "output_type": "display_data"
    }
   ],
   "source": [
    "fpr, tpr, threshold = roc_curve(y_test, model.predict(X_test))\n",
    "RocCurveDisplay(fpr=fpr, tpr=tpr, estimator_name = 'MLP').plot();"
   ]
  },
  {
   "cell_type": "markdown",
   "id": "0e9cba81-b914-40cf-a1ff-b775cfcb96d0",
   "metadata": {},
   "source": [
    "# Tuning the hyperparameters"
   ]
  },
  {
   "cell_type": "code",
   "execution_count": 14,
   "id": "0eb6b17f-242a-4dbc-b402-57a20b4113d5",
   "metadata": {},
   "outputs": [],
   "source": [
    "%load_ext tensorboard"
   ]
  },
  {
   "cell_type": "code",
   "execution_count": 15,
   "id": "ee6e8c2d-cfe1-4574-8575-26091fc45050",
   "metadata": {},
   "outputs": [
    {
     "name": "stdout",
     "output_type": "stream",
     "text": [
      "removed 'accuracy/hparam_tuning/events.out.tfevents.1720617539.LAPTOP-B3RQBVHD.17108.0.v2'\n",
      "removed 'accuracy/hparam_tuning/run-0/events.out.tfevents.1720617539.LAPTOP-B3RQBVHD.17108.1.v2'\n",
      "removed directory 'accuracy/hparam_tuning/run-0'\n",
      "removed 'accuracy/hparam_tuning/run-1/events.out.tfevents.1720617542.LAPTOP-B3RQBVHD.17108.2.v2'\n",
      "removed directory 'accuracy/hparam_tuning/run-1'\n",
      "removed 'accuracy/hparam_tuning/run-10/events.out.tfevents.1720617573.LAPTOP-B3RQBVHD.17108.11.v2'\n",
      "removed directory 'accuracy/hparam_tuning/run-10'\n",
      "removed 'accuracy/hparam_tuning/run-11/events.out.tfevents.1720617576.LAPTOP-B3RQBVHD.17108.12.v2'\n",
      "removed directory 'accuracy/hparam_tuning/run-11'\n",
      "removed 'accuracy/hparam_tuning/run-12/events.out.tfevents.1720617579.LAPTOP-B3RQBVHD.17108.13.v2'\n",
      "removed directory 'accuracy/hparam_tuning/run-12'\n",
      "removed 'accuracy/hparam_tuning/run-13/events.out.tfevents.1720617582.LAPTOP-B3RQBVHD.17108.14.v2'\n",
      "removed directory 'accuracy/hparam_tuning/run-13'\n",
      "removed 'accuracy/hparam_tuning/run-14/events.out.tfevents.1720617585.LAPTOP-B3RQBVHD.17108.15.v2'\n",
      "removed directory 'accuracy/hparam_tuning/run-14'\n",
      "removed 'accuracy/hparam_tuning/run-15/events.out.tfevents.1720617589.LAPTOP-B3RQBVHD.17108.16.v2'\n",
      "removed directory 'accuracy/hparam_tuning/run-15'\n",
      "removed 'accuracy/hparam_tuning/run-16/events.out.tfevents.1720617593.LAPTOP-B3RQBVHD.17108.17.v2'\n",
      "removed directory 'accuracy/hparam_tuning/run-16'\n",
      "removed 'accuracy/hparam_tuning/run-17/events.out.tfevents.1720617596.LAPTOP-B3RQBVHD.17108.18.v2'\n",
      "removed directory 'accuracy/hparam_tuning/run-17'\n",
      "removed 'accuracy/hparam_tuning/run-18/events.out.tfevents.1720617599.LAPTOP-B3RQBVHD.17108.19.v2'\n",
      "removed directory 'accuracy/hparam_tuning/run-18'\n",
      "removed 'accuracy/hparam_tuning/run-19/events.out.tfevents.1720617603.LAPTOP-B3RQBVHD.17108.20.v2'\n",
      "removed directory 'accuracy/hparam_tuning/run-19'\n",
      "removed 'accuracy/hparam_tuning/run-2/events.out.tfevents.1720617546.LAPTOP-B3RQBVHD.17108.3.v2'\n",
      "removed directory 'accuracy/hparam_tuning/run-2'\n",
      "removed 'accuracy/hparam_tuning/run-20/events.out.tfevents.1720617607.LAPTOP-B3RQBVHD.17108.21.v2'\n",
      "removed directory 'accuracy/hparam_tuning/run-20'\n",
      "removed 'accuracy/hparam_tuning/run-21/events.out.tfevents.1720617610.LAPTOP-B3RQBVHD.17108.22.v2'\n",
      "removed directory 'accuracy/hparam_tuning/run-21'\n",
      "removed 'accuracy/hparam_tuning/run-22/events.out.tfevents.1720617614.LAPTOP-B3RQBVHD.17108.23.v2'\n",
      "removed directory 'accuracy/hparam_tuning/run-22'\n",
      "removed 'accuracy/hparam_tuning/run-23/events.out.tfevents.1720617617.LAPTOP-B3RQBVHD.17108.24.v2'\n",
      "removed directory 'accuracy/hparam_tuning/run-23'\n",
      "removed 'accuracy/hparam_tuning/run-24/events.out.tfevents.1720617621.LAPTOP-B3RQBVHD.17108.25.v2'\n",
      "removed directory 'accuracy/hparam_tuning/run-24'\n",
      "removed 'accuracy/hparam_tuning/run-25/events.out.tfevents.1720617624.LAPTOP-B3RQBVHD.17108.26.v2'\n",
      "removed directory 'accuracy/hparam_tuning/run-25'\n",
      "removed 'accuracy/hparam_tuning/run-26/events.out.tfevents.1720617628.LAPTOP-B3RQBVHD.17108.27.v2'\n",
      "removed directory 'accuracy/hparam_tuning/run-26'\n",
      "removed 'accuracy/hparam_tuning/run-27/events.out.tfevents.1720617632.LAPTOP-B3RQBVHD.17108.28.v2'\n",
      "removed directory 'accuracy/hparam_tuning/run-27'\n",
      "removed 'accuracy/hparam_tuning/run-28/events.out.tfevents.1720617636.LAPTOP-B3RQBVHD.17108.29.v2'\n",
      "removed directory 'accuracy/hparam_tuning/run-28'\n",
      "removed 'accuracy/hparam_tuning/run-29/events.out.tfevents.1720617639.LAPTOP-B3RQBVHD.17108.30.v2'\n",
      "removed directory 'accuracy/hparam_tuning/run-29'\n",
      "removed 'accuracy/hparam_tuning/run-3/events.out.tfevents.1720617549.LAPTOP-B3RQBVHD.17108.4.v2'\n",
      "removed directory 'accuracy/hparam_tuning/run-3'\n",
      "removed 'accuracy/hparam_tuning/run-30/events.out.tfevents.1720617642.LAPTOP-B3RQBVHD.17108.31.v2'\n",
      "removed directory 'accuracy/hparam_tuning/run-30'\n",
      "removed 'accuracy/hparam_tuning/run-31/events.out.tfevents.1720617646.LAPTOP-B3RQBVHD.17108.32.v2'\n",
      "removed directory 'accuracy/hparam_tuning/run-31'\n",
      "removed 'accuracy/hparam_tuning/run-32/events.out.tfevents.1720617650.LAPTOP-B3RQBVHD.17108.33.v2'\n",
      "removed directory 'accuracy/hparam_tuning/run-32'\n",
      "removed 'accuracy/hparam_tuning/run-33/events.out.tfevents.1720617654.LAPTOP-B3RQBVHD.17108.34.v2'\n",
      "removed directory 'accuracy/hparam_tuning/run-33'\n",
      "removed 'accuracy/hparam_tuning/run-34/events.out.tfevents.1720617658.LAPTOP-B3RQBVHD.17108.35.v2'\n",
      "removed directory 'accuracy/hparam_tuning/run-34'\n",
      "removed 'accuracy/hparam_tuning/run-35/events.out.tfevents.1720617661.LAPTOP-B3RQBVHD.17108.36.v2'\n",
      "removed directory 'accuracy/hparam_tuning/run-35'\n",
      "removed 'accuracy/hparam_tuning/run-36/events.out.tfevents.1720617665.LAPTOP-B3RQBVHD.17108.37.v2'\n",
      "removed directory 'accuracy/hparam_tuning/run-36'\n",
      "removed 'accuracy/hparam_tuning/run-37/events.out.tfevents.1720617668.LAPTOP-B3RQBVHD.17108.38.v2'\n",
      "removed directory 'accuracy/hparam_tuning/run-37'\n",
      "removed 'accuracy/hparam_tuning/run-38/events.out.tfevents.1720617672.LAPTOP-B3RQBVHD.17108.39.v2'\n",
      "removed directory 'accuracy/hparam_tuning/run-38'\n",
      "removed 'accuracy/hparam_tuning/run-39/events.out.tfevents.1720617676.LAPTOP-B3RQBVHD.17108.40.v2'\n",
      "removed directory 'accuracy/hparam_tuning/run-39'\n",
      "removed 'accuracy/hparam_tuning/run-4/events.out.tfevents.1720617553.LAPTOP-B3RQBVHD.17108.5.v2'\n",
      "removed directory 'accuracy/hparam_tuning/run-4'\n",
      "removed 'accuracy/hparam_tuning/run-40/events.out.tfevents.1720617680.LAPTOP-B3RQBVHD.17108.41.v2'\n",
      "removed directory 'accuracy/hparam_tuning/run-40'\n",
      "removed 'accuracy/hparam_tuning/run-41/events.out.tfevents.1720617683.LAPTOP-B3RQBVHD.17108.42.v2'\n",
      "removed directory 'accuracy/hparam_tuning/run-41'\n",
      "removed 'accuracy/hparam_tuning/run-42/events.out.tfevents.1720617686.LAPTOP-B3RQBVHD.17108.43.v2'\n",
      "removed directory 'accuracy/hparam_tuning/run-42'\n",
      "removed 'accuracy/hparam_tuning/run-43/events.out.tfevents.1720617690.LAPTOP-B3RQBVHD.17108.44.v2'\n",
      "removed directory 'accuracy/hparam_tuning/run-43'\n",
      "removed 'accuracy/hparam_tuning/run-44/events.out.tfevents.1720617695.LAPTOP-B3RQBVHD.17108.45.v2'\n",
      "removed directory 'accuracy/hparam_tuning/run-44'\n",
      "removed 'accuracy/hparam_tuning/run-45/events.out.tfevents.1720617701.LAPTOP-B3RQBVHD.17108.46.v2'\n",
      "removed directory 'accuracy/hparam_tuning/run-45'\n",
      "removed 'accuracy/hparam_tuning/run-46/events.out.tfevents.1720617705.LAPTOP-B3RQBVHD.17108.47.v2'\n",
      "removed directory 'accuracy/hparam_tuning/run-46'\n",
      "removed 'accuracy/hparam_tuning/run-47/events.out.tfevents.1720617708.LAPTOP-B3RQBVHD.17108.48.v2'\n",
      "removed directory 'accuracy/hparam_tuning/run-47'\n",
      "removed 'accuracy/hparam_tuning/run-5/events.out.tfevents.1720617556.LAPTOP-B3RQBVHD.17108.6.v2'\n",
      "removed directory 'accuracy/hparam_tuning/run-5'\n",
      "removed 'accuracy/hparam_tuning/run-6/events.out.tfevents.1720617559.LAPTOP-B3RQBVHD.17108.7.v2'\n",
      "removed directory 'accuracy/hparam_tuning/run-6'\n",
      "removed 'accuracy/hparam_tuning/run-7/events.out.tfevents.1720617562.LAPTOP-B3RQBVHD.17108.8.v2'\n",
      "removed directory 'accuracy/hparam_tuning/run-7'\n",
      "removed 'accuracy/hparam_tuning/run-8/events.out.tfevents.1720617566.LAPTOP-B3RQBVHD.17108.9.v2'\n",
      "removed directory 'accuracy/hparam_tuning/run-8'\n",
      "removed 'accuracy/hparam_tuning/run-9/events.out.tfevents.1720617569.LAPTOP-B3RQBVHD.17108.10.v2'\n",
      "removed directory 'accuracy/hparam_tuning/run-9'\n",
      "removed directory 'accuracy/hparam_tuning'\n"
     ]
    }
   ],
   "source": [
    "HP_NUM_UNITS = hp.HParam('num_units', hp.Discrete([5,10,15,20]))\n",
    "HP_DROPOUT = hp.HParam('dropout', hp.Discrete([0.1, 0.5]))\n",
    "HP_OPTIMIZER = hp.HParam('optimizer', hp.Discrete(['adam', 'sgd', 'adagrad']))\n",
    "HP_ACTIVATION = hp.HParam('activation', hp.Discrete(['relu', 'sigmoid']))\n",
    "\n",
    "METRIC_ACCURACY = 'accuracy'\n",
    "\n",
    "!rm -rvf accuracy/hparam_tuning\n",
    "\n",
    "with tf.summary.create_file_writer('accuracy/hparam_tuning').as_default():\n",
    "  hp.hparams_config(\n",
    "    hparams=[HP_NUM_UNITS, HP_DROPOUT, HP_OPTIMIZER, HP_ACTIVATION],\n",
    "    metrics=[hp.Metric(METRIC_ACCURACY, display_name='accuracy')]\n",
    "  )"
   ]
  },
  {
   "cell_type": "code",
   "execution_count": 16,
   "id": "564b5290-3b38-45b4-a019-50fbb1f8b4d4",
   "metadata": {},
   "outputs": [],
   "source": [
    "def validate_model(hparams):\n",
    "  model = keras.Sequential([\n",
    "      keras.layers.InputLayer(shape = (X_train.shape[-1],)),\n",
    "      keras.layers.Dense(\n",
    "          hparams[HP_NUM_UNITS], activation = hparams[HP_ACTIVATION],),\n",
    "      keras.layers.Dropout(hparams[HP_DROPOUT]),\n",
    "      keras.layers.Dense(1, activation='sigmoid'),\n",
    "  ])\n",
    "\n",
    "  model.compile(\n",
    "      optimizer=hparams[HP_OPTIMIZER],\n",
    "      loss=keras.losses.BinaryCrossentropy(),\n",
    "      metrics=[tf.keras.metrics.BinaryAccuracy(name = 'accuracy', threshold = 0.5)])\n",
    "  model.fit(X_train, y_train, epochs=1)\n",
    "  _, accuracy = model.evaluate(X_val, y_val)\n",
    "  return (accuracy)"
   ]
  },
  {
   "cell_type": "code",
   "execution_count": 17,
   "id": "f6ad62f1-96f4-4e9d-9dca-0e367acdef3c",
   "metadata": {},
   "outputs": [],
   "source": [
    "def run(run_dir, hparams):\n",
    "  with tf.summary.create_file_writer(run_dir).as_default():\n",
    "    hp.hparams(hparams)  # record the values used in this trial\n",
    "    accuracy = validate_model(hparams)\n",
    "    tf.summary.scalar(METRIC_ACCURACY, accuracy, step=1)"
   ]
  },
  {
   "cell_type": "code",
   "execution_count": 18,
   "id": "2cef371a-8ec8-4079-8fa7-f4be4726bf5f",
   "metadata": {
    "scrolled": true
   },
   "outputs": [
    {
     "name": "stdout",
     "output_type": "stream",
     "text": [
      "--- Starting trial: run-0\n",
      "{'num_units': 5, 'dropout': 0.1, 'optimizer': 'adagrad', 'activation': 'relu'}\n",
      "\u001b[1m1050/1050\u001b[0m \u001b[32m━━━━━━━━━━━━━━━━━━━━\u001b[0m\u001b[37m\u001b[0m \u001b[1m4s\u001b[0m 3ms/step - accuracy: 0.8000 - loss: 0.6992\n",
      "\u001b[1m313/313\u001b[0m \u001b[32m━━━━━━━━━━━━━━━━━━━━\u001b[0m\u001b[37m\u001b[0m \u001b[1m1s\u001b[0m 3ms/step - accuracy: 0.8583 - loss: 0.6183\n",
      "--- Starting trial: run-1\n",
      "{'num_units': 5, 'dropout': 0.1, 'optimizer': 'adagrad', 'activation': 'sigmoid'}\n",
      "\u001b[1m1050/1050\u001b[0m \u001b[32m━━━━━━━━━━━━━━━━━━━━\u001b[0m\u001b[37m\u001b[0m \u001b[1m4s\u001b[0m 3ms/step - accuracy: 0.1489 - loss: 1.1011\n",
      "\u001b[1m313/313\u001b[0m \u001b[32m━━━━━━━━━━━━━━━━━━━━\u001b[0m\u001b[37m\u001b[0m \u001b[1m1s\u001b[0m 3ms/step - accuracy: 0.1380 - loss: 1.0000\n",
      "--- Starting trial: run-2\n",
      "{'num_units': 5, 'dropout': 0.1, 'optimizer': 'adam', 'activation': 'relu'}\n",
      "\u001b[1m1050/1050\u001b[0m \u001b[32m━━━━━━━━━━━━━━━━━━━━\u001b[0m\u001b[37m\u001b[0m \u001b[1m5s\u001b[0m 3ms/step - accuracy: 0.8314 - loss: 0.5040\n",
      "\u001b[1m313/313\u001b[0m \u001b[32m━━━━━━━━━━━━━━━━━━━━\u001b[0m\u001b[37m\u001b[0m \u001b[1m1s\u001b[0m 3ms/step - accuracy: 0.9788 - loss: 0.1576\n",
      "--- Starting trial: run-3\n",
      "{'num_units': 5, 'dropout': 0.1, 'optimizer': 'adam', 'activation': 'sigmoid'}\n",
      "\u001b[1m1050/1050\u001b[0m \u001b[32m━━━━━━━━━━━━━━━━━━━━\u001b[0m\u001b[37m\u001b[0m \u001b[1m5s\u001b[0m 3ms/step - accuracy: 0.8557 - loss: 0.4485\n",
      "\u001b[1m313/313\u001b[0m \u001b[32m━━━━━━━━━━━━━━━━━━━━\u001b[0m\u001b[37m\u001b[0m \u001b[1m1s\u001b[0m 2ms/step - accuracy: 0.8796 - loss: 0.2088\n",
      "--- Starting trial: run-4\n",
      "{'num_units': 5, 'dropout': 0.1, 'optimizer': 'sgd', 'activation': 'relu'}\n",
      "\u001b[1m1050/1050\u001b[0m \u001b[32m━━━━━━━━━━━━━━━━━━━━\u001b[0m\u001b[37m\u001b[0m \u001b[1m3s\u001b[0m 2ms/step - accuracy: 0.7928 - loss: 0.4932\n",
      "\u001b[1m313/313\u001b[0m \u001b[32m━━━━━━━━━━━━━━━━━━━━\u001b[0m\u001b[37m\u001b[0m \u001b[1m1s\u001b[0m 2ms/step - accuracy: 0.9741 - loss: 0.1635\n",
      "--- Starting trial: run-5\n",
      "{'num_units': 5, 'dropout': 0.1, 'optimizer': 'sgd', 'activation': 'sigmoid'}\n",
      "\u001b[1m1050/1050\u001b[0m \u001b[32m━━━━━━━━━━━━━━━━━━━━\u001b[0m\u001b[37m\u001b[0m \u001b[1m3s\u001b[0m 2ms/step - accuracy: 0.6700 - loss: 0.5721\n",
      "\u001b[1m313/313\u001b[0m \u001b[32m━━━━━━━━━━━━━━━━━━━━\u001b[0m\u001b[37m\u001b[0m \u001b[1m1s\u001b[0m 3ms/step - accuracy: 0.8618 - loss: 0.3242\n",
      "--- Starting trial: run-6\n",
      "{'num_units': 5, 'dropout': 0.5, 'optimizer': 'adagrad', 'activation': 'relu'}\n",
      "\u001b[1m1050/1050\u001b[0m \u001b[32m━━━━━━━━━━━━━━━━━━━━\u001b[0m\u001b[37m\u001b[0m \u001b[1m5s\u001b[0m 3ms/step - accuracy: 0.6344 - loss: 0.7932\n",
      "\u001b[1m313/313\u001b[0m \u001b[32m━━━━━━━━━━━━━━━━━━━━\u001b[0m\u001b[37m\u001b[0m \u001b[1m1s\u001b[0m 3ms/step - accuracy: 0.8432 - loss: 0.7060\n",
      "--- Starting trial: run-7\n",
      "{'num_units': 5, 'dropout': 0.5, 'optimizer': 'adagrad', 'activation': 'sigmoid'}\n",
      "\u001b[1m1050/1050\u001b[0m \u001b[32m━━━━━━━━━━━━━━━━━━━━\u001b[0m\u001b[37m\u001b[0m \u001b[1m5s\u001b[0m 3ms/step - accuracy: 0.8308 - loss: 0.5300\n",
      "\u001b[1m313/313\u001b[0m \u001b[32m━━━━━━━━━━━━━━━━━━━━\u001b[0m\u001b[37m\u001b[0m \u001b[1m1s\u001b[0m 2ms/step - accuracy: 0.8618 - loss: 0.4693\n",
      "--- Starting trial: run-8\n",
      "{'num_units': 5, 'dropout': 0.5, 'optimizer': 'adam', 'activation': 'relu'}\n",
      "\u001b[1m1050/1050\u001b[0m \u001b[32m━━━━━━━━━━━━━━━━━━━━\u001b[0m\u001b[37m\u001b[0m \u001b[1m5s\u001b[0m 3ms/step - accuracy: 0.8716 - loss: 0.4880\n",
      "\u001b[1m313/313\u001b[0m \u001b[32m━━━━━━━━━━━━━━━━━━━━\u001b[0m\u001b[37m\u001b[0m \u001b[1m1s\u001b[0m 2ms/step - accuracy: 0.9782 - loss: 0.1364\n",
      "--- Starting trial: run-9\n",
      "{'num_units': 5, 'dropout': 0.5, 'optimizer': 'adam', 'activation': 'sigmoid'}\n",
      "\u001b[1m1050/1050\u001b[0m \u001b[32m━━━━━━━━━━━━━━━━━━━━\u001b[0m\u001b[37m\u001b[0m \u001b[1m5s\u001b[0m 3ms/step - accuracy: 0.8410 - loss: 0.4636\n",
      "\u001b[1m313/313\u001b[0m \u001b[32m━━━━━━━━━━━━━━━━━━━━\u001b[0m\u001b[37m\u001b[0m \u001b[1m1s\u001b[0m 3ms/step - accuracy: 0.8618 - loss: 0.2425\n",
      "--- Starting trial: run-10\n",
      "{'num_units': 5, 'dropout': 0.5, 'optimizer': 'sgd', 'activation': 'relu'}\n",
      "\u001b[1m1050/1050\u001b[0m \u001b[32m━━━━━━━━━━━━━━━━━━━━\u001b[0m\u001b[37m\u001b[0m \u001b[1m4s\u001b[0m 3ms/step - accuracy: 0.8591 - loss: 0.4299\n",
      "\u001b[1m313/313\u001b[0m \u001b[32m━━━━━━━━━━━━━━━━━━━━\u001b[0m\u001b[37m\u001b[0m \u001b[1m1s\u001b[0m 3ms/step - accuracy: 0.9608 - loss: 0.1806\n",
      "--- Starting trial: run-11\n",
      "{'num_units': 5, 'dropout': 0.5, 'optimizer': 'sgd', 'activation': 'sigmoid'}\n",
      "\u001b[1m1050/1050\u001b[0m \u001b[32m━━━━━━━━━━━━━━━━━━━━\u001b[0m\u001b[37m\u001b[0m \u001b[1m4s\u001b[0m 3ms/step - accuracy: 0.7500 - loss: 0.4920\n",
      "\u001b[1m313/313\u001b[0m \u001b[32m━━━━━━━━━━━━━━━━━━━━\u001b[0m\u001b[37m\u001b[0m \u001b[1m1s\u001b[0m 3ms/step - accuracy: 0.8618 - loss: 0.2790\n",
      "--- Starting trial: run-12\n",
      "{'num_units': 10, 'dropout': 0.1, 'optimizer': 'adagrad', 'activation': 'relu'}\n",
      "\u001b[1m1050/1050\u001b[0m \u001b[32m━━━━━━━━━━━━━━━━━━━━\u001b[0m\u001b[37m\u001b[0m \u001b[1m4s\u001b[0m 3ms/step - accuracy: 0.8102 - loss: 0.5387\n",
      "\u001b[1m313/313\u001b[0m \u001b[32m━━━━━━━━━━━━━━━━━━━━\u001b[0m\u001b[37m\u001b[0m \u001b[1m1s\u001b[0m 3ms/step - accuracy: 0.8715 - loss: 0.4839\n",
      "--- Starting trial: run-13\n",
      "{'num_units': 10, 'dropout': 0.1, 'optimizer': 'adagrad', 'activation': 'sigmoid'}\n",
      "\u001b[1m1050/1050\u001b[0m \u001b[32m━━━━━━━━━━━━━━━━━━━━\u001b[0m\u001b[37m\u001b[0m \u001b[1m4s\u001b[0m 3ms/step - accuracy: 0.1450 - loss: 1.0047\n",
      "\u001b[1m313/313\u001b[0m \u001b[32m━━━━━━━━━━━━━━━━━━━━\u001b[0m\u001b[37m\u001b[0m \u001b[1m1s\u001b[0m 2ms/step - accuracy: 0.1382 - loss: 0.8670\n",
      "--- Starting trial: run-14\n",
      "{'num_units': 10, 'dropout': 0.1, 'optimizer': 'adam', 'activation': 'relu'}\n",
      "\u001b[1m1050/1050\u001b[0m \u001b[32m━━━━━━━━━━━━━━━━━━━━\u001b[0m\u001b[37m\u001b[0m \u001b[1m5s\u001b[0m 3ms/step - accuracy: 0.8987 - loss: 0.4076\n",
      "\u001b[1m313/313\u001b[0m \u001b[32m━━━━━━━━━━━━━━━━━━━━\u001b[0m\u001b[37m\u001b[0m \u001b[1m1s\u001b[0m 2ms/step - accuracy: 0.9806 - loss: 0.1125\n",
      "--- Starting trial: run-15\n",
      "{'num_units': 10, 'dropout': 0.1, 'optimizer': 'adam', 'activation': 'sigmoid'}\n",
      "\u001b[1m1050/1050\u001b[0m \u001b[32m━━━━━━━━━━━━━━━━━━━━\u001b[0m\u001b[37m\u001b[0m \u001b[1m4s\u001b[0m 2ms/step - accuracy: 0.8477 - loss: 0.4042\n",
      "\u001b[1m313/313\u001b[0m \u001b[32m━━━━━━━━━━━━━━━━━━━━\u001b[0m\u001b[37m\u001b[0m \u001b[1m1s\u001b[0m 2ms/step - accuracy: 0.9685 - loss: 0.1717\n",
      "--- Starting trial: run-16\n",
      "{'num_units': 10, 'dropout': 0.1, 'optimizer': 'sgd', 'activation': 'relu'}\n",
      "\u001b[1m1050/1050\u001b[0m \u001b[32m━━━━━━━━━━━━━━━━━━━━\u001b[0m\u001b[37m\u001b[0m \u001b[1m3s\u001b[0m 2ms/step - accuracy: 0.8671 - loss: 0.4450\n",
      "\u001b[1m313/313\u001b[0m \u001b[32m━━━━━━━━━━━━━━━━━━━━\u001b[0m\u001b[37m\u001b[0m \u001b[1m1s\u001b[0m 2ms/step - accuracy: 0.9687 - loss: 0.1845\n",
      "--- Starting trial: run-17\n",
      "{'num_units': 10, 'dropout': 0.1, 'optimizer': 'sgd', 'activation': 'sigmoid'}\n",
      "\u001b[1m1050/1050\u001b[0m \u001b[32m━━━━━━━━━━━━━━━━━━━━\u001b[0m\u001b[37m\u001b[0m \u001b[1m4s\u001b[0m 3ms/step - accuracy: 0.8174 - loss: 0.4532\n",
      "\u001b[1m313/313\u001b[0m \u001b[32m━━━━━━━━━━━━━━━━━━━━\u001b[0m\u001b[37m\u001b[0m \u001b[1m1s\u001b[0m 2ms/step - accuracy: 0.8618 - loss: 0.2633\n",
      "--- Starting trial: run-18\n",
      "{'num_units': 10, 'dropout': 0.5, 'optimizer': 'adagrad', 'activation': 'relu'}\n",
      "\u001b[1m1050/1050\u001b[0m \u001b[32m━━━━━━━━━━━━━━━━━━━━\u001b[0m\u001b[37m\u001b[0m \u001b[1m4s\u001b[0m 3ms/step - accuracy: 0.4735 - loss: 0.8101\n",
      "\u001b[1m313/313\u001b[0m \u001b[32m━━━━━━━━━━━━━━━━━━━━\u001b[0m\u001b[37m\u001b[0m \u001b[1m1s\u001b[0m 2ms/step - accuracy: 0.5750 - loss: 0.6800\n",
      "--- Starting trial: run-19\n",
      "{'num_units': 10, 'dropout': 0.5, 'optimizer': 'adagrad', 'activation': 'sigmoid'}\n",
      "\u001b[1m1050/1050\u001b[0m \u001b[32m━━━━━━━━━━━━━━━━━━━━\u001b[0m\u001b[37m\u001b[0m \u001b[1m4s\u001b[0m 3ms/step - accuracy: 0.7205 - loss: 0.5815\n",
      "\u001b[1m313/313\u001b[0m \u001b[32m━━━━━━━━━━━━━━━━━━━━\u001b[0m\u001b[37m\u001b[0m \u001b[1m1s\u001b[0m 3ms/step - accuracy: 0.8619 - loss: 0.4717\n",
      "--- Starting trial: run-20\n",
      "{'num_units': 10, 'dropout': 0.5, 'optimizer': 'adam', 'activation': 'relu'}\n",
      "\u001b[1m1050/1050\u001b[0m \u001b[32m━━━━━━━━━━━━━━━━━━━━\u001b[0m\u001b[37m\u001b[0m \u001b[1m5s\u001b[0m 3ms/step - accuracy: 0.7981 - loss: 0.4880\n",
      "\u001b[1m313/313\u001b[0m \u001b[32m━━━━━━━━━━━━━━━━━━━━\u001b[0m\u001b[37m\u001b[0m \u001b[1m1s\u001b[0m 3ms/step - accuracy: 0.9816 - loss: 0.1119\n",
      "--- Starting trial: run-21\n",
      "{'num_units': 10, 'dropout': 0.5, 'optimizer': 'adam', 'activation': 'sigmoid'}\n",
      "\u001b[1m1050/1050\u001b[0m \u001b[32m━━━━━━━━━━━━━━━━━━━━\u001b[0m\u001b[37m\u001b[0m \u001b[1m5s\u001b[0m 3ms/step - accuracy: 0.7668 - loss: 0.4664\n",
      "\u001b[1m313/313\u001b[0m \u001b[32m━━━━━━━━━━━━━━━━━━━━\u001b[0m\u001b[37m\u001b[0m \u001b[1m1s\u001b[0m 2ms/step - accuracy: 0.9393 - loss: 0.1838\n",
      "--- Starting trial: run-22\n",
      "{'num_units': 10, 'dropout': 0.5, 'optimizer': 'sgd', 'activation': 'relu'}\n",
      "\u001b[1m1050/1050\u001b[0m \u001b[32m━━━━━━━━━━━━━━━━━━━━\u001b[0m\u001b[37m\u001b[0m \u001b[1m3s\u001b[0m 3ms/step - accuracy: 0.8522 - loss: 0.4056\n",
      "\u001b[1m313/313\u001b[0m \u001b[32m━━━━━━━━━━━━━━━━━━━━\u001b[0m\u001b[37m\u001b[0m \u001b[1m1s\u001b[0m 2ms/step - accuracy: 0.9693 - loss: 0.1635\n",
      "--- Starting trial: run-23\n",
      "{'num_units': 10, 'dropout': 0.5, 'optimizer': 'sgd', 'activation': 'sigmoid'}\n",
      "\u001b[1m1050/1050\u001b[0m \u001b[32m━━━━━━━━━━━━━━━━━━━━\u001b[0m\u001b[37m\u001b[0m \u001b[1m3s\u001b[0m 2ms/step - accuracy: 0.7716 - loss: 0.5103\n",
      "\u001b[1m313/313\u001b[0m \u001b[32m━━━━━━━━━━━━━━━━━━━━\u001b[0m\u001b[37m\u001b[0m \u001b[1m1s\u001b[0m 3ms/step - accuracy: 0.8618 - loss: 0.3132\n",
      "--- Starting trial: run-24\n",
      "{'num_units': 15, 'dropout': 0.1, 'optimizer': 'adagrad', 'activation': 'relu'}\n",
      "\u001b[1m1050/1050\u001b[0m \u001b[32m━━━━━━━━━━━━━━━━━━━━\u001b[0m\u001b[37m\u001b[0m \u001b[1m4s\u001b[0m 3ms/step - accuracy: 0.8930 - loss: 0.6037\n",
      "\u001b[1m313/313\u001b[0m \u001b[32m━━━━━━━━━━━━━━━━━━━━\u001b[0m\u001b[37m\u001b[0m \u001b[1m1s\u001b[0m 3ms/step - accuracy: 0.9565 - loss: 0.5430\n",
      "--- Starting trial: run-25\n",
      "{'num_units': 15, 'dropout': 0.1, 'optimizer': 'adagrad', 'activation': 'sigmoid'}\n",
      "\u001b[1m1050/1050\u001b[0m \u001b[32m━━━━━━━━━━━━━━━━━━━━\u001b[0m\u001b[37m\u001b[0m \u001b[1m4s\u001b[0m 3ms/step - accuracy: 0.4786 - loss: 0.7268\n",
      "\u001b[1m313/313\u001b[0m \u001b[32m━━━━━━━━━━━━━━━━━━━━\u001b[0m\u001b[37m\u001b[0m \u001b[1m1s\u001b[0m 3ms/step - accuracy: 0.8592 - loss: 0.6004\n",
      "--- Starting trial: run-26\n",
      "{'num_units': 15, 'dropout': 0.1, 'optimizer': 'adam', 'activation': 'relu'}\n",
      "\u001b[1m1050/1050\u001b[0m \u001b[32m━━━━━━━━━━━━━━━━━━━━\u001b[0m\u001b[37m\u001b[0m \u001b[1m4s\u001b[0m 2ms/step - accuracy: 0.8907 - loss: 0.3596\n",
      "\u001b[1m313/313\u001b[0m \u001b[32m━━━━━━━━━━━━━━━━━━━━\u001b[0m\u001b[37m\u001b[0m \u001b[1m1s\u001b[0m 2ms/step - accuracy: 0.9808 - loss: 0.0874\n",
      "--- Starting trial: run-27\n",
      "{'num_units': 15, 'dropout': 0.1, 'optimizer': 'adam', 'activation': 'sigmoid'}\n",
      "\u001b[1m1050/1050\u001b[0m \u001b[32m━━━━━━━━━━━━━━━━━━━━\u001b[0m\u001b[37m\u001b[0m \u001b[1m4s\u001b[0m 3ms/step - accuracy: 0.8959 - loss: 0.3137\n",
      "\u001b[1m313/313\u001b[0m \u001b[32m━━━━━━━━━━━━━━━━━━━━\u001b[0m\u001b[37m\u001b[0m \u001b[1m1s\u001b[0m 3ms/step - accuracy: 0.9788 - loss: 0.1310\n",
      "--- Starting trial: run-28\n",
      "{'num_units': 15, 'dropout': 0.1, 'optimizer': 'sgd', 'activation': 'relu'}\n",
      "\u001b[1m1050/1050\u001b[0m \u001b[32m━━━━━━━━━━━━━━━━━━━━\u001b[0m\u001b[37m\u001b[0m \u001b[1m3s\u001b[0m 2ms/step - accuracy: 0.9068 - loss: 0.3481\n",
      "\u001b[1m313/313\u001b[0m \u001b[32m━━━━━━━━━━━━━━━━━━━━\u001b[0m\u001b[37m\u001b[0m \u001b[1m1s\u001b[0m 3ms/step - accuracy: 0.9801 - loss: 0.1386\n",
      "--- Starting trial: run-29\n",
      "{'num_units': 15, 'dropout': 0.1, 'optimizer': 'sgd', 'activation': 'sigmoid'}\n",
      "\u001b[1m1050/1050\u001b[0m \u001b[32m━━━━━━━━━━━━━━━━━━━━\u001b[0m\u001b[37m\u001b[0m \u001b[1m3s\u001b[0m 3ms/step - accuracy: 0.7514 - loss: 0.4912\n",
      "\u001b[1m313/313\u001b[0m \u001b[32m━━━━━━━━━━━━━━━━━━━━\u001b[0m\u001b[37m\u001b[0m \u001b[1m1s\u001b[0m 2ms/step - accuracy: 0.8618 - loss: 0.2582\n",
      "--- Starting trial: run-30\n",
      "{'num_units': 15, 'dropout': 0.5, 'optimizer': 'adagrad', 'activation': 'relu'}\n",
      "\u001b[1m1050/1050\u001b[0m \u001b[32m━━━━━━━━━━━━━━━━━━━━\u001b[0m\u001b[37m\u001b[0m \u001b[1m4s\u001b[0m 2ms/step - accuracy: 0.4557 - loss: 0.8728\n",
      "\u001b[1m313/313\u001b[0m \u001b[32m━━━━━━━━━━━━━━━━━━━━\u001b[0m\u001b[37m\u001b[0m \u001b[1m1s\u001b[0m 3ms/step - accuracy: 0.4735 - loss: 0.7245\n",
      "--- Starting trial: run-31\n",
      "{'num_units': 15, 'dropout': 0.5, 'optimizer': 'adagrad', 'activation': 'sigmoid'}\n",
      "\u001b[1m1050/1050\u001b[0m \u001b[32m━━━━━━━━━━━━━━━━━━━━\u001b[0m\u001b[37m\u001b[0m \u001b[1m4s\u001b[0m 2ms/step - accuracy: 0.4216 - loss: 0.8050\n",
      "\u001b[1m313/313\u001b[0m \u001b[32m━━━━━━━━━━━━━━━━━━━━\u001b[0m\u001b[37m\u001b[0m \u001b[1m1s\u001b[0m 2ms/step - accuracy: 0.8661 - loss: 0.6428\n",
      "--- Starting trial: run-32\n",
      "{'num_units': 15, 'dropout': 0.5, 'optimizer': 'adam', 'activation': 'relu'}\n",
      "\u001b[1m1050/1050\u001b[0m \u001b[32m━━━━━━━━━━━━━━━━━━━━\u001b[0m\u001b[37m\u001b[0m \u001b[1m5s\u001b[0m 3ms/step - accuracy: 0.8253 - loss: 0.4492\n",
      "\u001b[1m313/313\u001b[0m \u001b[32m━━━━━━━━━━━━━━━━━━━━\u001b[0m\u001b[37m\u001b[0m \u001b[1m1s\u001b[0m 2ms/step - accuracy: 0.9818 - loss: 0.1050\n",
      "--- Starting trial: run-33\n",
      "{'num_units': 15, 'dropout': 0.5, 'optimizer': 'adam', 'activation': 'sigmoid'}\n",
      "\u001b[1m1050/1050\u001b[0m \u001b[32m━━━━━━━━━━━━━━━━━━━━\u001b[0m\u001b[37m\u001b[0m \u001b[1m4s\u001b[0m 3ms/step - accuracy: 0.8338 - loss: 0.3848\n",
      "\u001b[1m313/313\u001b[0m \u001b[32m━━━━━━━━━━━━━━━━━━━━\u001b[0m\u001b[37m\u001b[0m \u001b[1m1s\u001b[0m 3ms/step - accuracy: 0.9711 - loss: 0.1538\n",
      "--- Starting trial: run-34\n",
      "{'num_units': 15, 'dropout': 0.5, 'optimizer': 'sgd', 'activation': 'relu'}\n",
      "\u001b[1m1050/1050\u001b[0m \u001b[32m━━━━━━━━━━━━━━━━━━━━\u001b[0m\u001b[37m\u001b[0m \u001b[1m3s\u001b[0m 2ms/step - accuracy: 0.8837 - loss: 0.4369\n",
      "\u001b[1m313/313\u001b[0m \u001b[32m━━━━━━━━━━━━━━━━━━━━\u001b[0m\u001b[37m\u001b[0m \u001b[1m1s\u001b[0m 2ms/step - accuracy: 0.9772 - loss: 0.1910\n",
      "--- Starting trial: run-35\n",
      "{'num_units': 15, 'dropout': 0.5, 'optimizer': 'sgd', 'activation': 'sigmoid'}\n",
      "\u001b[1m1050/1050\u001b[0m \u001b[32m━━━━━━━━━━━━━━━━━━━━\u001b[0m\u001b[37m\u001b[0m \u001b[1m4s\u001b[0m 3ms/step - accuracy: 0.8458 - loss: 0.3960\n",
      "\u001b[1m313/313\u001b[0m \u001b[32m━━━━━━━━━━━━━━━━━━━━\u001b[0m\u001b[37m\u001b[0m \u001b[1m1s\u001b[0m 3ms/step - accuracy: 0.8622 - loss: 0.2514\n",
      "--- Starting trial: run-36\n",
      "{'num_units': 20, 'dropout': 0.1, 'optimizer': 'adagrad', 'activation': 'relu'}\n",
      "\u001b[1m1050/1050\u001b[0m \u001b[32m━━━━━━━━━━━━━━━━━━━━\u001b[0m\u001b[37m\u001b[0m \u001b[1m4s\u001b[0m 3ms/step - accuracy: 0.7471 - loss: 0.6127\n",
      "\u001b[1m313/313\u001b[0m \u001b[32m━━━━━━━━━━━━━━━━━━━━\u001b[0m\u001b[37m\u001b[0m \u001b[1m1s\u001b[0m 2ms/step - accuracy: 0.8753 - loss: 0.5289\n",
      "--- Starting trial: run-37\n",
      "{'num_units': 20, 'dropout': 0.1, 'optimizer': 'adagrad', 'activation': 'sigmoid'}\n",
      "\u001b[1m1050/1050\u001b[0m \u001b[32m━━━━━━━━━━━━━━━━━━━━\u001b[0m\u001b[37m\u001b[0m \u001b[1m4s\u001b[0m 3ms/step - accuracy: 0.8590 - loss: 0.3925\n",
      "\u001b[1m313/313\u001b[0m \u001b[32m━━━━━━━━━━━━━━━━━━━━\u001b[0m\u001b[37m\u001b[0m \u001b[1m1s\u001b[0m 2ms/step - accuracy: 0.8618 - loss: 0.3510\n",
      "--- Starting trial: run-38\n",
      "{'num_units': 20, 'dropout': 0.1, 'optimizer': 'adam', 'activation': 'relu'}\n",
      "\u001b[1m1050/1050\u001b[0m \u001b[32m━━━━━━━━━━━━━━━━━━━━\u001b[0m\u001b[37m\u001b[0m \u001b[1m5s\u001b[0m 3ms/step - accuracy: 0.9118 - loss: 0.3261\n",
      "\u001b[1m313/313\u001b[0m \u001b[32m━━━━━━━━━━━━━━━━━━━━\u001b[0m\u001b[37m\u001b[0m \u001b[1m1s\u001b[0m 3ms/step - accuracy: 0.9813 - loss: 0.0912\n",
      "--- Starting trial: run-39\n",
      "{'num_units': 20, 'dropout': 0.1, 'optimizer': 'adam', 'activation': 'sigmoid'}\n",
      "\u001b[1m1050/1050\u001b[0m \u001b[32m━━━━━━━━━━━━━━━━━━━━\u001b[0m\u001b[37m\u001b[0m \u001b[1m5s\u001b[0m 3ms/step - accuracy: 0.7156 - loss: 0.5047\n",
      "\u001b[1m313/313\u001b[0m \u001b[32m━━━━━━━━━━━━━━━━━━━━\u001b[0m\u001b[37m\u001b[0m \u001b[1m1s\u001b[0m 3ms/step - accuracy: 0.9746 - loss: 0.1585\n",
      "--- Starting trial: run-40\n",
      "{'num_units': 20, 'dropout': 0.1, 'optimizer': 'sgd', 'activation': 'relu'}\n",
      "\u001b[1m1050/1050\u001b[0m \u001b[32m━━━━━━━━━━━━━━━━━━━━\u001b[0m\u001b[37m\u001b[0m \u001b[1m4s\u001b[0m 3ms/step - accuracy: 0.8912 - loss: 0.4141\n",
      "\u001b[1m313/313\u001b[0m \u001b[32m━━━━━━━━━━━━━━━━━━━━\u001b[0m\u001b[37m\u001b[0m \u001b[1m1s\u001b[0m 3ms/step - accuracy: 0.9802 - loss: 0.1302\n",
      "--- Starting trial: run-41\n",
      "{'num_units': 20, 'dropout': 0.1, 'optimizer': 'sgd', 'activation': 'sigmoid'}\n",
      "\u001b[1m1050/1050\u001b[0m \u001b[32m━━━━━━━━━━━━━━━━━━━━\u001b[0m\u001b[37m\u001b[0m \u001b[1m3s\u001b[0m 3ms/step - accuracy: 0.8186 - loss: 0.4194\n",
      "\u001b[1m313/313\u001b[0m \u001b[32m━━━━━━━━━━━━━━━━━━━━\u001b[0m\u001b[37m\u001b[0m \u001b[1m1s\u001b[0m 3ms/step - accuracy: 0.8628 - loss: 0.2383\n",
      "--- Starting trial: run-42\n",
      "{'num_units': 20, 'dropout': 0.5, 'optimizer': 'adagrad', 'activation': 'relu'}\n",
      "\u001b[1m1050/1050\u001b[0m \u001b[32m━━━━━━━━━━━━━━━━━━━━\u001b[0m\u001b[37m\u001b[0m \u001b[1m4s\u001b[0m 3ms/step - accuracy: 0.6800 - loss: 0.5485\n",
      "\u001b[1m313/313\u001b[0m \u001b[32m━━━━━━━━━━━━━━━━━━━━\u001b[0m\u001b[37m\u001b[0m \u001b[1m1s\u001b[0m 3ms/step - accuracy: 0.7480 - loss: 0.4659\n",
      "--- Starting trial: run-43\n",
      "{'num_units': 20, 'dropout': 0.5, 'optimizer': 'adagrad', 'activation': 'sigmoid'}\n",
      "\u001b[1m1050/1050\u001b[0m \u001b[32m━━━━━━━━━━━━━━━━━━━━\u001b[0m\u001b[37m\u001b[0m \u001b[1m4s\u001b[0m 3ms/step - accuracy: 0.5884 - loss: 0.6702\n",
      "\u001b[1m313/313\u001b[0m \u001b[32m━━━━━━━━━━━━━━━━━━━━\u001b[0m\u001b[37m\u001b[0m \u001b[1m1s\u001b[0m 3ms/step - accuracy: 0.8615 - loss: 0.5194\n",
      "--- Starting trial: run-44\n",
      "{'num_units': 20, 'dropout': 0.5, 'optimizer': 'adam', 'activation': 'relu'}\n",
      "\u001b[1m1050/1050\u001b[0m \u001b[32m━━━━━━━━━━━━━━━━━━━━\u001b[0m\u001b[37m\u001b[0m \u001b[1m6s\u001b[0m 4ms/step - accuracy: 0.8712 - loss: 0.3719\n",
      "\u001b[1m313/313\u001b[0m \u001b[32m━━━━━━━━━━━━━━━━━━━━\u001b[0m\u001b[37m\u001b[0m \u001b[1m1s\u001b[0m 3ms/step - accuracy: 0.9802 - loss: 0.0998\n",
      "--- Starting trial: run-45\n",
      "{'num_units': 20, 'dropout': 0.5, 'optimizer': 'adam', 'activation': 'sigmoid'}\n",
      "\u001b[1m1050/1050\u001b[0m \u001b[32m━━━━━━━━━━━━━━━━━━━━\u001b[0m\u001b[37m\u001b[0m \u001b[1m5s\u001b[0m 3ms/step - accuracy: 0.8474 - loss: 0.3553\n",
      "\u001b[1m313/313\u001b[0m \u001b[32m━━━━━━━━━━━━━━━━━━━━\u001b[0m\u001b[37m\u001b[0m \u001b[1m1s\u001b[0m 3ms/step - accuracy: 0.9703 - loss: 0.1523\n",
      "--- Starting trial: run-46\n",
      "{'num_units': 20, 'dropout': 0.5, 'optimizer': 'sgd', 'activation': 'relu'}\n",
      "\u001b[1m1050/1050\u001b[0m \u001b[32m━━━━━━━━━━━━━━━━━━━━\u001b[0m\u001b[37m\u001b[0m \u001b[1m3s\u001b[0m 3ms/step - accuracy: 0.8970 - loss: 0.3682\n",
      "\u001b[1m313/313\u001b[0m \u001b[32m━━━━━━━━━━━━━━━━━━━━\u001b[0m\u001b[37m\u001b[0m \u001b[1m1s\u001b[0m 3ms/step - accuracy: 0.9803 - loss: 0.1297\n",
      "--- Starting trial: run-47\n",
      "{'num_units': 20, 'dropout': 0.5, 'optimizer': 'sgd', 'activation': 'sigmoid'}\n",
      "\u001b[1m1050/1050\u001b[0m \u001b[32m━━━━━━━━━━━━━━━━━━━━\u001b[0m\u001b[37m\u001b[0m \u001b[1m4s\u001b[0m 3ms/step - accuracy: 0.7597 - loss: 0.4995\n",
      "\u001b[1m313/313\u001b[0m \u001b[32m━━━━━━━━━━━━━━━━━━━━\u001b[0m\u001b[37m\u001b[0m \u001b[1m1s\u001b[0m 3ms/step - accuracy: 0.8618 - loss: 0.2844\n"
     ]
    }
   ],
   "source": [
    "session_num = 0\n",
    "\n",
    "for num_units in HP_NUM_UNITS.domain.values:\n",
    "  for dropout_rate in (HP_DROPOUT.domain.values):\n",
    "    for optimizer in HP_OPTIMIZER.domain.values:\n",
    "      for activation in HP_ACTIVATION.domain.values:\n",
    "          hparams = {\n",
    "              HP_NUM_UNITS: num_units,\n",
    "              HP_DROPOUT: dropout_rate,\n",
    "              HP_OPTIMIZER: optimizer,\n",
    "              HP_ACTIVATION: activation,\n",
    "          }\n",
    "          run_name = \"run-%d\" % session_num\n",
    "          print('--- Starting trial: %s' % run_name)\n",
    "          print({h.name: hparams[h] for h in hparams})\n",
    "          run('accuracy/hparam_tuning/' + run_name, hparams)\n",
    "          session_num += 1"
   ]
  },
  {
   "cell_type": "code",
   "execution_count": 19,
   "id": "411473eb-67e9-4730-857c-9afa0c3acb44",
   "metadata": {},
   "outputs": [
    {
     "data": {
      "text/html": [
       "\n",
       "      <iframe id=\"tensorboard-frame-8c2fb8ae0f21b464\" width=\"100%\" height=\"800\" frameborder=\"0\">\n",
       "      </iframe>\n",
       "      <script>\n",
       "        (function() {\n",
       "          const frame = document.getElementById(\"tensorboard-frame-8c2fb8ae0f21b464\");\n",
       "          const url = new URL(\"/\", window.location);\n",
       "          const port = 8358;\n",
       "          if (port) {\n",
       "            url.port = port;\n",
       "          }\n",
       "          frame.src = url;\n",
       "        })();\n",
       "      </script>\n",
       "    "
      ],
      "text/plain": [
       "<IPython.core.display.HTML object>"
      ]
     },
     "metadata": {},
     "output_type": "display_data"
    }
   ],
   "source": [
    "%tensorboard --logdir accuracy/hparam_tuning --host localhost --port 8358"
   ]
  },
  {
   "cell_type": "markdown",
   "id": "da1a2f65-df4a-4848-83ae-27bf51b94a83",
   "metadata": {},
   "source": [
    "These are the best values for the hyperparameters:"
   ]
  },
  {
   "cell_type": "code",
   "execution_count": 24,
   "id": "b5413508-0b78-4772-8944-8fa5eb469632",
   "metadata": {},
   "outputs": [],
   "source": [
    "tuned_num_units = 10\n",
    "tuned_dropout = 0.5\n",
    "tuned_optimizer = tf.keras.optimizers.Adam(learning_rate=0.001)\n",
    "tuned_activation = 'relu'"
   ]
  },
  {
   "cell_type": "markdown",
   "id": "74745f65-d70c-4fd9-99b9-6c283d888a82",
   "metadata": {},
   "source": [
    "# Initializing our best model"
   ]
  },
  {
   "cell_type": "code",
   "execution_count": 25,
   "id": "63271b15-8fd4-4232-8a8a-334a25f92873",
   "metadata": {},
   "outputs": [],
   "source": [
    "METRICS = [\n",
    "      keras.metrics.BinaryCrossentropy(name='cross entropy'),  # same as model's loss\n",
    "      keras.metrics.BinaryAccuracy(name='accuracy'),\n",
    "      keras.metrics.Precision(name='precision'),\n",
    "      keras.metrics.Recall(name = 'recall'),\n",
    "]\n",
    "\n",
    "def make_model(metrics=METRICS):\n",
    "  model = keras.Sequential([\n",
    "      keras.layers.InputLayer(shape = (X_train.shape[-1],)),\n",
    "      keras.layers.Dense(\n",
    "          tuned_num_units, activation=tuned_activation),\n",
    "      keras.layers.Dropout(tuned_dropout),\n",
    "      keras.layers.Dense(1, activation='sigmoid'),\n",
    "  ])\n",
    "\n",
    "  model.compile(\n",
    "      optimizer=tuned_optimizer,\n",
    "      loss=keras.losses.BinaryCrossentropy(),\n",
    "      metrics=metrics)\n",
    "  print(metrics)\n",
    "  return model"
   ]
  },
  {
   "cell_type": "code",
   "execution_count": 26,
   "id": "0c26403d-57e6-44be-a8d6-3e4b2d0e8598",
   "metadata": {},
   "outputs": [
    {
     "name": "stdout",
     "output_type": "stream",
     "text": [
      "[<BinaryCrossentropy name=cross entropy>, <BinaryAccuracy name=accuracy>, <Precision name=precision>, <Recall name=recall>]\n"
     ]
    },
    {
     "data": {
      "text/html": [
       "<pre style=\"white-space:pre;overflow-x:auto;line-height:normal;font-family:Menlo,'DejaVu Sans Mono',consolas,'Courier New',monospace\"><span style=\"font-weight: bold\">Model: \"sequential_50\"</span>\n",
       "</pre>\n"
      ],
      "text/plain": [
       "\u001b[1mModel: \"sequential_50\"\u001b[0m\n"
      ]
     },
     "metadata": {},
     "output_type": "display_data"
    },
    {
     "data": {
      "text/html": [
       "<pre style=\"white-space:pre;overflow-x:auto;line-height:normal;font-family:Menlo,'DejaVu Sans Mono',consolas,'Courier New',monospace\">┏━━━━━━━━━━━━━━━━━━━━━━━━━━━━━━━━━┳━━━━━━━━━━━━━━━━━━━━━━━━┳━━━━━━━━━━━━━━━┓\n",
       "┃<span style=\"font-weight: bold\"> Layer (type)                    </span>┃<span style=\"font-weight: bold\"> Output Shape           </span>┃<span style=\"font-weight: bold\">       Param # </span>┃\n",
       "┡━━━━━━━━━━━━━━━━━━━━━━━━━━━━━━━━━╇━━━━━━━━━━━━━━━━━━━━━━━━╇━━━━━━━━━━━━━━━┩\n",
       "│ dense_100 (<span style=\"color: #0087ff; text-decoration-color: #0087ff\">Dense</span>)               │ (<span style=\"color: #00d7ff; text-decoration-color: #00d7ff\">None</span>, <span style=\"color: #00af00; text-decoration-color: #00af00\">10</span>)             │            <span style=\"color: #00af00; text-decoration-color: #00af00\">50</span> │\n",
       "├─────────────────────────────────┼────────────────────────┼───────────────┤\n",
       "│ dropout_50 (<span style=\"color: #0087ff; text-decoration-color: #0087ff\">Dropout</span>)            │ (<span style=\"color: #00d7ff; text-decoration-color: #00d7ff\">None</span>, <span style=\"color: #00af00; text-decoration-color: #00af00\">10</span>)             │             <span style=\"color: #00af00; text-decoration-color: #00af00\">0</span> │\n",
       "├─────────────────────────────────┼────────────────────────┼───────────────┤\n",
       "│ dense_101 (<span style=\"color: #0087ff; text-decoration-color: #0087ff\">Dense</span>)               │ (<span style=\"color: #00d7ff; text-decoration-color: #00d7ff\">None</span>, <span style=\"color: #00af00; text-decoration-color: #00af00\">1</span>)              │            <span style=\"color: #00af00; text-decoration-color: #00af00\">11</span> │\n",
       "└─────────────────────────────────┴────────────────────────┴───────────────┘\n",
       "</pre>\n"
      ],
      "text/plain": [
       "┏━━━━━━━━━━━━━━━━━━━━━━━━━━━━━━━━━┳━━━━━━━━━━━━━━━━━━━━━━━━┳━━━━━━━━━━━━━━━┓\n",
       "┃\u001b[1m \u001b[0m\u001b[1mLayer (type)                   \u001b[0m\u001b[1m \u001b[0m┃\u001b[1m \u001b[0m\u001b[1mOutput Shape          \u001b[0m\u001b[1m \u001b[0m┃\u001b[1m \u001b[0m\u001b[1m      Param #\u001b[0m\u001b[1m \u001b[0m┃\n",
       "┡━━━━━━━━━━━━━━━━━━━━━━━━━━━━━━━━━╇━━━━━━━━━━━━━━━━━━━━━━━━╇━━━━━━━━━━━━━━━┩\n",
       "│ dense_100 (\u001b[38;5;33mDense\u001b[0m)               │ (\u001b[38;5;45mNone\u001b[0m, \u001b[38;5;34m10\u001b[0m)             │            \u001b[38;5;34m50\u001b[0m │\n",
       "├─────────────────────────────────┼────────────────────────┼───────────────┤\n",
       "│ dropout_50 (\u001b[38;5;33mDropout\u001b[0m)            │ (\u001b[38;5;45mNone\u001b[0m, \u001b[38;5;34m10\u001b[0m)             │             \u001b[38;5;34m0\u001b[0m │\n",
       "├─────────────────────────────────┼────────────────────────┼───────────────┤\n",
       "│ dense_101 (\u001b[38;5;33mDense\u001b[0m)               │ (\u001b[38;5;45mNone\u001b[0m, \u001b[38;5;34m1\u001b[0m)              │            \u001b[38;5;34m11\u001b[0m │\n",
       "└─────────────────────────────────┴────────────────────────┴───────────────┘\n"
      ]
     },
     "metadata": {},
     "output_type": "display_data"
    },
    {
     "data": {
      "text/html": [
       "<pre style=\"white-space:pre;overflow-x:auto;line-height:normal;font-family:Menlo,'DejaVu Sans Mono',consolas,'Courier New',monospace\"><span style=\"font-weight: bold\"> Total params: </span><span style=\"color: #00af00; text-decoration-color: #00af00\">61</span> (244.00 B)\n",
       "</pre>\n"
      ],
      "text/plain": [
       "\u001b[1m Total params: \u001b[0m\u001b[38;5;34m61\u001b[0m (244.00 B)\n"
      ]
     },
     "metadata": {},
     "output_type": "display_data"
    },
    {
     "data": {
      "text/html": [
       "<pre style=\"white-space:pre;overflow-x:auto;line-height:normal;font-family:Menlo,'DejaVu Sans Mono',consolas,'Courier New',monospace\"><span style=\"font-weight: bold\"> Trainable params: </span><span style=\"color: #00af00; text-decoration-color: #00af00\">61</span> (244.00 B)\n",
       "</pre>\n"
      ],
      "text/plain": [
       "\u001b[1m Trainable params: \u001b[0m\u001b[38;5;34m61\u001b[0m (244.00 B)\n"
      ]
     },
     "metadata": {},
     "output_type": "display_data"
    },
    {
     "data": {
      "text/html": [
       "<pre style=\"white-space:pre;overflow-x:auto;line-height:normal;font-family:Menlo,'DejaVu Sans Mono',consolas,'Courier New',monospace\"><span style=\"font-weight: bold\"> Non-trainable params: </span><span style=\"color: #00af00; text-decoration-color: #00af00\">0</span> (0.00 B)\n",
       "</pre>\n"
      ],
      "text/plain": [
       "\u001b[1m Non-trainable params: \u001b[0m\u001b[38;5;34m0\u001b[0m (0.00 B)\n"
      ]
     },
     "metadata": {},
     "output_type": "display_data"
    }
   ],
   "source": [
    "model = make_model()\n",
    "model.summary()"
   ]
  },
  {
   "cell_type": "code",
   "execution_count": 27,
   "id": "551a08c3-d027-4232-a570-8218f610f892",
   "metadata": {},
   "outputs": [
    {
     "name": "stdout",
     "output_type": "stream",
     "text": [
      "Epoch 1/20\n",
      "\u001b[1m1050/1050\u001b[0m \u001b[32m━━━━━━━━━━━━━━━━━━━━\u001b[0m\u001b[37m\u001b[0m \u001b[1m7s\u001b[0m 5ms/step - accuracy: 0.8786 - cross entropy: 0.3894 - loss: 0.3894 - precision: 0.6308 - recall: 0.4220 - val_accuracy: 0.9774 - val_cross entropy: 0.1251 - val_loss: 0.1251 - val_precision: 0.9688 - val_recall: 0.8697\n",
      "Epoch 2/20\n",
      "\u001b[1m1050/1050\u001b[0m \u001b[32m━━━━━━━━━━━━━━━━━━━━\u001b[0m\u001b[37m\u001b[0m \u001b[1m4s\u001b[0m 4ms/step - accuracy: 0.9420 - cross entropy: 0.1624 - loss: 0.1624 - precision: 0.9255 - recall: 0.6479 - val_accuracy: 0.9803 - val_cross entropy: 0.0938 - val_loss: 0.0938 - val_precision: 0.9583 - val_recall: 0.9013\n",
      "Epoch 3/20\n",
      "\u001b[1m1050/1050\u001b[0m \u001b[32m━━━━━━━━━━━━━━━━━━━━\u001b[0m\u001b[37m\u001b[0m \u001b[1m5s\u001b[0m 4ms/step - accuracy: 0.9514 - cross entropy: 0.1264 - loss: 0.1264 - precision: 0.9408 - recall: 0.6966 - val_accuracy: 0.9805 - val_cross entropy: 0.0868 - val_loss: 0.0868 - val_precision: 0.9557 - val_recall: 0.9055\n",
      "Epoch 4/20\n",
      "\u001b[1m1050/1050\u001b[0m \u001b[32m━━━━━━━━━━━━━━━━━━━━\u001b[0m\u001b[37m\u001b[0m \u001b[1m4s\u001b[0m 4ms/step - accuracy: 0.9478 - cross entropy: 0.1337 - loss: 0.1337 - precision: 0.9271 - recall: 0.6832 - val_accuracy: 0.9806 - val_cross entropy: 0.0846 - val_loss: 0.0846 - val_precision: 0.9517 - val_recall: 0.9104\n",
      "Epoch 5/20\n",
      "\u001b[1m1050/1050\u001b[0m \u001b[32m━━━━━━━━━━━━━━━━━━━━\u001b[0m\u001b[37m\u001b[0m \u001b[1m4s\u001b[0m 4ms/step - accuracy: 0.9686 - cross entropy: 0.1222 - loss: 0.1222 - precision: 0.9027 - recall: 0.8703 - val_accuracy: 0.9812 - val_cross entropy: 0.0833 - val_loss: 0.0833 - val_precision: 0.9519 - val_recall: 0.9146\n",
      "Epoch 6/20\n",
      "\u001b[1m1050/1050\u001b[0m \u001b[32m━━━━━━━━━━━━━━━━━━━━\u001b[0m\u001b[37m\u001b[0m \u001b[1m4s\u001b[0m 4ms/step - accuracy: 0.9711 - cross entropy: 0.1237 - loss: 0.1237 - precision: 0.9053 - recall: 0.8905 - val_accuracy: 0.9809 - val_cross entropy: 0.0835 - val_loss: 0.0835 - val_precision: 0.9472 - val_recall: 0.9174\n",
      "Epoch 7/20\n",
      "\u001b[1m1050/1050\u001b[0m \u001b[32m━━━━━━━━━━━━━━━━━━━━\u001b[0m\u001b[37m\u001b[0m \u001b[1m5s\u001b[0m 4ms/step - accuracy: 0.9714 - cross entropy: 0.1222 - loss: 0.1222 - precision: 0.9004 - recall: 0.8962 - val_accuracy: 0.9806 - val_cross entropy: 0.0840 - val_loss: 0.0840 - val_precision: 0.9471 - val_recall: 0.9153\n",
      "Epoch 8/20\n",
      "\u001b[1m1050/1050\u001b[0m \u001b[32m━━━━━━━━━━━━━━━━━━━━\u001b[0m\u001b[37m\u001b[0m \u001b[1m4s\u001b[0m 4ms/step - accuracy: 0.9719 - cross entropy: 0.1154 - loss: 0.1154 - precision: 0.8994 - recall: 0.8990 - val_accuracy: 0.9806 - val_cross entropy: 0.0835 - val_loss: 0.0835 - val_precision: 0.9517 - val_recall: 0.9104\n",
      "Epoch 9/20\n",
      "\u001b[1m1050/1050\u001b[0m \u001b[32m━━━━━━━━━━━━━━━━━━━━\u001b[0m\u001b[37m\u001b[0m \u001b[1m4s\u001b[0m 4ms/step - accuracy: 0.9739 - cross entropy: 0.1118 - loss: 0.1118 - precision: 0.9050 - recall: 0.9087 - val_accuracy: 0.9806 - val_cross entropy: 0.0817 - val_loss: 0.0817 - val_precision: 0.9471 - val_recall: 0.9153\n",
      "Epoch 10/20\n",
      "\u001b[1m1050/1050\u001b[0m \u001b[32m━━━━━━━━━━━━━━━━━━━━\u001b[0m\u001b[37m\u001b[0m \u001b[1m4s\u001b[0m 4ms/step - accuracy: 0.9726 - cross entropy: 0.1161 - loss: 0.1161 - precision: 0.8998 - recall: 0.9067 - val_accuracy: 0.9805 - val_cross entropy: 0.0817 - val_loss: 0.0817 - val_precision: 0.9432 - val_recall: 0.9188\n",
      "Epoch 11/20\n",
      "\u001b[1m1050/1050\u001b[0m \u001b[32m━━━━━━━━━━━━━━━━━━━━\u001b[0m\u001b[37m\u001b[0m \u001b[1m4s\u001b[0m 4ms/step - accuracy: 0.9733 - cross entropy: 0.1142 - loss: 0.1142 - precision: 0.9020 - recall: 0.9079 - val_accuracy: 0.9807 - val_cross entropy: 0.0817 - val_loss: 0.0817 - val_precision: 0.9491 - val_recall: 0.9139\n",
      "Epoch 12/20\n",
      "\u001b[1m1050/1050\u001b[0m \u001b[32m━━━━━━━━━━━━━━━━━━━━\u001b[0m\u001b[37m\u001b[0m \u001b[1m4s\u001b[0m 4ms/step - accuracy: 0.9733 - cross entropy: 0.1169 - loss: 0.1169 - precision: 0.9048 - recall: 0.9114 - val_accuracy: 0.9803 - val_cross entropy: 0.0819 - val_loss: 0.0819 - val_precision: 0.9470 - val_recall: 0.9132\n",
      "Epoch 13/20\n",
      "\u001b[1m1050/1050\u001b[0m \u001b[32m━━━━━━━━━━━━━━━━━━━━\u001b[0m\u001b[37m\u001b[0m \u001b[1m4s\u001b[0m 4ms/step - accuracy: 0.9723 - cross entropy: 0.1199 - loss: 0.1199 - precision: 0.8986 - recall: 0.9054 - val_accuracy: 0.9803 - val_cross entropy: 0.0812 - val_loss: 0.0812 - val_precision: 0.9444 - val_recall: 0.9160\n",
      "Epoch 14/20\n",
      "\u001b[1m1050/1050\u001b[0m \u001b[32m━━━━━━━━━━━━━━━━━━━━\u001b[0m\u001b[37m\u001b[0m \u001b[1m5s\u001b[0m 4ms/step - accuracy: 0.9730 - cross entropy: 0.1226 - loss: 0.1226 - precision: 0.9021 - recall: 0.9067 - val_accuracy: 0.9807 - val_cross entropy: 0.0809 - val_loss: 0.0809 - val_precision: 0.9491 - val_recall: 0.9139\n",
      "Epoch 15/20\n",
      "\u001b[1m1050/1050\u001b[0m \u001b[32m━━━━━━━━━━━━━━━━━━━━\u001b[0m\u001b[37m\u001b[0m \u001b[1m5s\u001b[0m 5ms/step - accuracy: 0.9728 - cross entropy: 0.1208 - loss: 0.1208 - precision: 0.9040 - recall: 0.8991 - val_accuracy: 0.9802 - val_cross entropy: 0.0811 - val_loss: 0.0811 - val_precision: 0.9444 - val_recall: 0.9153\n",
      "Epoch 16/20\n",
      "\u001b[1m1050/1050\u001b[0m \u001b[32m━━━━━━━━━━━━━━━━━━━━\u001b[0m\u001b[37m\u001b[0m \u001b[1m5s\u001b[0m 5ms/step - accuracy: 0.9745 - cross entropy: 0.1132 - loss: 0.1132 - precision: 0.9111 - recall: 0.9052 - val_accuracy: 0.9802 - val_cross entropy: 0.0809 - val_loss: 0.0809 - val_precision: 0.9450 - val_recall: 0.9146\n",
      "Epoch 17/20\n",
      "\u001b[1m1050/1050\u001b[0m \u001b[32m━━━━━━━━━━━━━━━━━━━━\u001b[0m\u001b[37m\u001b[0m \u001b[1m4s\u001b[0m 4ms/step - accuracy: 0.9742 - cross entropy: 0.1164 - loss: 0.1164 - precision: 0.9002 - recall: 0.9163 - val_accuracy: 0.9805 - val_cross entropy: 0.0808 - val_loss: 0.0808 - val_precision: 0.9471 - val_recall: 0.9146\n",
      "Epoch 18/20\n",
      "\u001b[1m1050/1050\u001b[0m \u001b[32m━━━━━━━━━━━━━━━━━━━━\u001b[0m\u001b[37m\u001b[0m \u001b[1m4s\u001b[0m 4ms/step - accuracy: 0.9747 - cross entropy: 0.1086 - loss: 0.1086 - precision: 0.9069 - recall: 0.9130 - val_accuracy: 0.9801 - val_cross entropy: 0.0813 - val_loss: 0.0813 - val_precision: 0.9443 - val_recall: 0.9146\n",
      "Epoch 19/20\n",
      "\u001b[1m1050/1050\u001b[0m \u001b[32m━━━━━━━━━━━━━━━━━━━━\u001b[0m\u001b[37m\u001b[0m \u001b[1m4s\u001b[0m 4ms/step - accuracy: 0.9736 - cross entropy: 0.1215 - loss: 0.1215 - precision: 0.9058 - recall: 0.9115 - val_accuracy: 0.9800 - val_cross entropy: 0.0817 - val_loss: 0.0817 - val_precision: 0.9430 - val_recall: 0.9153\n",
      "Epoch 20/20\n",
      "\u001b[1m1050/1050\u001b[0m \u001b[32m━━━━━━━━━━━━━━━━━━━━\u001b[0m\u001b[37m\u001b[0m \u001b[1m4s\u001b[0m 4ms/step - accuracy: 0.9742 - cross entropy: 0.1095 - loss: 0.1095 - precision: 0.9045 - recall: 0.9134 - val_accuracy: 0.9802 - val_cross entropy: 0.0815 - val_loss: 0.0815 - val_precision: 0.9418 - val_recall: 0.9181\n"
     ]
    }
   ],
   "source": [
    "history = model.fit(X_train, y_train, epochs=20, validation_data=(X_val, y_val))"
   ]
  },
  {
   "cell_type": "code",
   "execution_count": 28,
   "id": "e68c09d7-0f6f-4913-93b9-163bf25405ef",
   "metadata": {},
   "outputs": [
    {
     "name": "stdout",
     "output_type": "stream",
     "text": [
      "\u001b[1m1050/1050\u001b[0m \u001b[32m━━━━━━━━━━━━━━━━━━━━\u001b[0m\u001b[37m\u001b[0m \u001b[1m2s\u001b[0m 2ms/step\n",
      "\u001b[1m313/313\u001b[0m \u001b[32m━━━━━━━━━━━━━━━━━━━━\u001b[0m\u001b[37m\u001b[0m \u001b[1m1s\u001b[0m 3ms/step\n",
      "\u001b[1m200/200\u001b[0m \u001b[32m━━━━━━━━━━━━━━━━━━━━\u001b[0m\u001b[37m\u001b[0m \u001b[1m1s\u001b[0m 2ms/step\n"
     ]
    }
   ],
   "source": [
    "train_pred = model.predict(X_train)\n",
    "val_pred = model.predict(X_val)\n",
    "test_pred = model.predict(X_test)"
   ]
  },
  {
   "cell_type": "markdown",
   "id": "39ddaa34-7151-412c-97fe-268ace397633",
   "metadata": {},
   "source": [
    "# Results"
   ]
  },
  {
   "cell_type": "code",
   "execution_count": 29,
   "id": "f7dcd894-dd82-4cb5-a71f-749b05d84c63",
   "metadata": {},
   "outputs": [
    {
     "name": "stdout",
     "output_type": "stream",
     "text": [
      "Loss : 0.08328191936016083\n",
      "Accuracy : 0.9807812571525574\n",
      "Precision : 0.9412392973899841\n",
      "Recall : 0.9283456206321716\n"
     ]
    },
    {
     "data": {
      "text/plain": [
       "array([[5396,   55],\n",
       "       [  68,  881]], dtype=int64)"
      ]
     },
     "execution_count": 29,
     "metadata": {},
     "output_type": "execute_result"
    }
   ],
   "source": [
    "cm = confusion_matrix(y_test, test_pred > 0.5)\n",
    "test_results = model.evaluate(X_test, y_test, verbose=0)\n",
    "print('Loss : ' + str(test_results[0]))\n",
    "print('Accuracy : ' + str(test_results[2]))\n",
    "print('Precision : ' + str(test_results[3]))\n",
    "print('Recall : ' + str(test_results[4]))\n",
    "cm"
   ]
  },
  {
   "cell_type": "code",
   "execution_count": 30,
   "id": "557f680b-4ac7-452d-8eac-7049bba04f5e",
   "metadata": {},
   "outputs": [
    {
     "data": {
      "image/png": "[encoded data removed]",
      "text/plain": [
       "<Figure size 1300x1000 with 4 Axes>"
      ]
     },
     "metadata": {},
     "output_type": "display_data"
    }
   ],
   "source": [
    "fig = plt.figure(figsize = (13,10))\n",
    "ax = fig.add_subplot(221)\n",
    "ax.plot(history.history['accuracy'], label = 'training')\n",
    "ax.plot(history.history['val_accuracy'], label = 'validation')\n",
    "ax.set_ylabel('accuracy')\n",
    "ax.set_xlabel('epoch')\n",
    "ax.legend()\n",
    "\n",
    "ax1 = fig.add_subplot(222)\n",
    "ax1.plot(history.history['precision'], label = 'training')\n",
    "ax1.plot(history.history['val_precision'], label = 'validation')\n",
    "ax1.set_ylabel('precision')\n",
    "ax1.set_xlabel('epoch')\n",
    "ax1.legend()\n",
    "\n",
    "ax3 = fig.add_subplot(223)\n",
    "ax3.plot(history.history['recall'], label = 'training')\n",
    "ax3.plot(history.history['val_recall'], label = 'validation')\n",
    "ax3.set_ylabel('recall')\n",
    "ax3.set_xlabel('epoch')\n",
    "ax3.legend()\n",
    "\n",
    "ax4 = fig.add_subplot(224)\n",
    "ax4.plot(history.history['loss'], label = 'training')\n",
    "ax4.plot(history.history['val_loss'], label = 'validation')\n",
    "ax4.set_ylabel('loss')\n",
    "ax4.set_xlabel('epoch')\n",
    "ax4.legend()\n",
    "\n",
    "plt.show()"
   ]
  },
  {
   "cell_type": "code",
   "execution_count": 31,
   "id": "1feac07a-024d-470e-8c05-3bec3ac7e24f",
   "metadata": {},
   "outputs": [
    {
     "name": "stdout",
     "output_type": "stream",
     "text": [
      "\u001b[1m200/200\u001b[0m \u001b[32m━━━━━━━━━━━━━━━━━━━━\u001b[0m\u001b[37m\u001b[0m \u001b[1m0s\u001b[0m 2ms/step\n"
     ]
    },
    {
     "data": {
      "image/png": "[encoded data removed]",
      "text/plain": [
       "<Figure size 640x480 with 1 Axes>"
      ]
     },
     "metadata": {},
     "output_type": "display_data"
    }
   ],
   "source": [
    "fpr, tpr, threshold = roc_curve(y_test, model.predict(X_test))\n",
    "RocCurveDisplay(fpr=fpr, tpr=tpr, estimator_name = 'Multi Layer Perceptron').plot();"
   ]
  },
  {
   "cell_type": "markdown",
   "id": "f2a5ce95-be7a-4bdb-ab7b-bf4915e390dc",
   "metadata": {},
   "source": [
    "The only hyperparameter that has changed after the cross validation is the number of neurons used in the hidden layer. The resulting accuracy is slightly better."
   ]
  },
  {
   "cell_type": "markdown",
   "id": "560aa833-083a-4c7e-98c1-2c988f13a693",
   "metadata": {},
   "source": [
    "Looking at the performance obtained by simpler classiefiers we can adfirm that using Deep Learning on this problem is too much expensive and we obtain a similar result."
   ]
  },
  {
   "cell_type": "code",
   "execution_count": null,
   "id": "9eb5a8ac-d19b-4e08-aa50-a69fe627eb8c",
   "metadata": {},
   "outputs": [],
   "source": []
  }
 ],
 "metadata": {
  "kernelspec": {
   "display_name": "Python 3 (ipykernel)",
   "language": "python",
   "name": "python3"
  },
  "language_info": {
   "codemirror_mode": {
    "name": "ipython",
    "version": 3
   },
   "file_extension": ".py",
   "mimetype": "text/x-python",
   "name": "python",
   "nbconvert_exporter": "python",
   "pygments_lexer": "ipython3",
   "version": "3.12.3"
  }
 },
 "nbformat": 4,
 "nbformat_minor": 5
}
