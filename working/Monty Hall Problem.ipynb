{
 "cells": [
  {
   "cell_type": "code",
   "execution_count": 1,
   "id": "56bf8380",
   "metadata": {},
   "outputs": [],
   "source": [
    "import numpy as np\n",
    "import random as rd\n",
    "from itertools import chain\n",
    "import matplotlib.pyplot as plt"
   ]
  },
  {
   "cell_type": "markdown",
   "id": "b5cfa667",
   "metadata": {},
   "source": [
    "# 3 DOORS"
   ]
  },
  {
   "cell_type": "code",
   "execution_count": 4,
   "id": "c9e2ff81",
   "metadata": {},
   "outputs": [
    {
     "name": "stdout",
     "output_type": "stream",
     "text": [
      "33.2988% 66.7012% 49.9873%\n"
     ]
    }
   ],
   "source": [
    "conservative = 0\n",
    "switcher = 0\n",
    "newcamer = 0\n",
    "rep = 1000000\n",
    "\n",
    "for i in range(rep):\n",
    "    game = np.zeros(shape=3)\n",
    "    game[rd.randrange(3)] = 1 # only one door contains the car\n",
    "\n",
    "    x = rd.sample(range(3),3) # doors opening order\n",
    "\n",
    "    if game[x[0]] == 1:\n",
    "        conservative = conservative + 1\n",
    "    else:\n",
    "        switcher = switcher + 1\n",
    "    \n",
    "    if game[x[1]] == 0:\n",
    "        last = game[x[2]]\n",
    "    else:\n",
    "        last = game[x[1]]\n",
    "\n",
    "    new = [game[x[0]], last]\n",
    "\n",
    "    y = rd.randrange(2) # newcomer choice\n",
    "\n",
    "    if new[y] == 1:\n",
    "        newcamer = newcamer + 1\n",
    "        \n",
    "print(str(conservative*100/rep)+'%', str(switcher*100/rep)+'%', str(newcamer*100/rep)+'%')"
   ]
  },
  {
   "cell_type": "markdown",
   "id": "7fc4a93b",
   "metadata": {},
   "source": [
    "# 100 DOORS"
   ]
  },
  {
   "cell_type": "code",
   "execution_count": 5,
   "id": "007a94bf",
   "metadata": {},
   "outputs": [
    {
     "name": "stdout",
     "output_type": "stream",
     "text": [
      "1.09% 98.91% 50.12%\n"
     ]
    }
   ],
   "source": [
    "conservative = 0\n",
    "switcher = 0\n",
    "newcamer = 0\n",
    "rep = 10000\n",
    "\n",
    "for i in range(rep):\n",
    "    \n",
    "    game = np.zeros(shape=(100))\n",
    "        \n",
    "    game[rd.randrange(100)] = 1 # door with the car\n",
    "    \n",
    "    x = rd.randrange(100) # player choice\n",
    "    \n",
    "    while len(game) > 2:\n",
    "        opn = rd.randrange(len(game))\n",
    "        if opn < x and game[opn]== 0:\n",
    "            game = np.delete(game, opn)\n",
    "            x = x-1                       # delete doors without changing the indeces\n",
    "        elif opn > x and game[opn]== 0:\n",
    "            game = np.delete(game, opn)\n",
    "    \n",
    "    if game[x] == 1:   \n",
    "            conservative = conservative + 1\n",
    "    else:\n",
    "            switcher = switcher + 1\n",
    "\n",
    "    if game[rd.randrange(2)] == 1:\n",
    "        newcamer = newcamer + 1\n",
    "        \n",
    "print(str(conservative*100/rep)+'%', str(switcher*100/rep)+'%', str(newcamer*100/rep)+'%')"
   ]
  },
  {
   "cell_type": "markdown",
   "id": "eaddd0f1",
   "metadata": {},
   "source": [
    "# N DOORS & M OPENED"
   ]
  },
  {
   "cell_type": "code",
   "execution_count": 29,
   "id": "2994b5eb",
   "metadata": {},
   "outputs": [
    {
     "data": {
      "text/plain": [
       "<matplotlib.colorbar.Colorbar at 0x22a2587fb50>"
      ]
     },
     "execution_count": 29,
     "metadata": {},
     "output_type": "execute_result"
    },
    {
     "data": {
      "image/png": "[encoded data removed]",
      "text/plain": [
       "<Figure size 1152x864 with 6 Axes>"
      ]
     },
     "metadata": {
      "needs_background": "light"
     },
     "output_type": "display_data"
    }
   ],
   "source": [
    "from mpl_toolkits.axes_grid1 import make_axes_locatable\n",
    "\n",
    "Nmax = 20\n",
    "Mmax = Nmax-2\n",
    "Nmin = 3\n",
    "Mmin = Nmin-2\n",
    "wins_cons = np.zeros(shape=(Nmax-Nmin,Mmax-Mmin))\n",
    "wins_switch = np.zeros(shape=(Nmax-Nmin,Mmax-Mmin))\n",
    "wins_new = np.zeros(shape=(Nmax-Nmin,Mmax-Mmin))\n",
    "rep = 1000 #repetition of the game with the same M and N\n",
    "\n",
    "for N in range(Nmin, Nmax):\n",
    "    for M in range(Mmin, N-1):\n",
    "        \n",
    "        conservative = 0\n",
    "        switcher = 0\n",
    "        newcamer = 0\n",
    "        \n",
    "        for i in range(rep):\n",
    "\n",
    "            game = np.zeros(shape=N)\n",
    "\n",
    "            game[rd.randrange(N)] = 1\n",
    "\n",
    "            x = rd.randrange(N)\n",
    "\n",
    "            while len(game) > (N-M):\n",
    "                opn = rd.randrange(len(game))\n",
    "                if opn < x and game[opn]== 0:\n",
    "                    game = np.delete(game, opn)\n",
    "                    x = x-1\n",
    "                elif opn > x and game[opn]== 0:\n",
    "                    game = np.delete(game, opn)\n",
    "\n",
    "            if game[x] == 1:   \n",
    "                    conservative = conservative + 1\n",
    "            else:\n",
    "                rest = list(chain(game[0:x], game[x+1: N-M]))\n",
    "                y = rd.randrange(N-M-1)\n",
    "                if rest[y] == 1:       \n",
    "                    switcher = switcher + 1\n",
    "\n",
    "            if game[rd.randrange(N-M)] == 1:\n",
    "                newcamer = newcamer + 1\n",
    "        \n",
    "        wins_cons[N-Nmin][M-Mmin] = conservative*100/rep\n",
    "        wins_switch[N-Nmin][M-Mmin] = switcher*100/rep\n",
    "        wins_new[N-Nmin][M-Mmin] = newcamer*100/rep\n",
    "\n",
    "fig = plt.figure(figsize=(16,12))\n",
    "extent = [Mmin,Mmax,Nmin,Nmax]\n",
    "\n",
    "ax1 = fig.add_subplot(131)\n",
    "im1 = ax1.imshow(wins_cons, extent=extent)\n",
    "ax1.set_title('conservative')\n",
    "ax1.set(xlabel = 'M', ylabel= 'N')\n",
    "divider = make_axes_locatable(ax1)\n",
    "cax = divider.append_axes('right', size='5%', pad=0.05)\n",
    "fig.colorbar(im1, cax=cax, orientation='vertical')\n",
    "\n",
    "ax2 = fig.add_subplot(132)\n",
    "im2 = ax2.imshow(wins_switch, extent=extent)\n",
    "ax2.set_title('conservative')\n",
    "ax2.set(xlabel = 'M', ylabel= 'N')\n",
    "divider = make_axes_locatable(ax2)\n",
    "cax = divider.append_axes('right', size='5%', pad=0.05)\n",
    "fig.colorbar(im2, cax=cax, orientation='vertical')\n",
    "\n",
    "ax3 = fig.add_subplot(133)\n",
    "im3 = ax3.imshow(wins_new, extent=extent)\n",
    "ax3.set_title('conservative')\n",
    "ax3.set(xlabel = 'M', ylabel= 'N')\n",
    "divider = make_axes_locatable(ax3)\n",
    "cax = divider.append_axes('right', size='5%', pad=0.05)\n",
    "fig.colorbar(im3, cax=cax, orientation='vertical')"
   ]
  },
  {
   "cell_type": "code",
   "execution_count": null,
   "id": "8344aca9",
   "metadata": {},
   "outputs": [],
   "source": []
  }
 ],
 "metadata": {
  "kernelspec": {
   "display_name": "Python 3",
   "language": "python",
   "name": "python3"
  },
  "language_info": {
   "codemirror_mode": {
    "name": "ipython",
    "version": 3
   },
   "file_extension": ".py",
   "mimetype": "text/x-python",
   "name": "python",
   "nbconvert_exporter": "python",
   "pygments_lexer": "ipython3",
   "version": "3.8.8"
  }
 },
 "nbformat": 4,
 "nbformat_minor": 5
}
